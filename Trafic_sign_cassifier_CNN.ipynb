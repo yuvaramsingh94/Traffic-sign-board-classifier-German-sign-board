{
 "cells": [
  {
   "cell_type": "markdown",
   "metadata": {
    "deletable": true,
    "editable": true
   },
   "source": [
    "---\n",
    "## Traffic sign classifier using Convolutional Neural Network"
   ]
  },
  {
   "cell_type": "markdown",
   "metadata": {
    "deletable": true,
    "editable": true
   },
   "source": [
    "this is a framework which can be used to classify images . in this program i had classified the german trafic sign images . using my model , i was able to classify some random images which i downloaded from online "
   ]
  },
  {
   "cell_type": "markdown",
   "metadata": {
    "deletable": true,
    "editable": true
   },
   "source": [
    "### loading datas\n",
    "load the training , validation , and testing data to work with your model\n",
    "\n",
    "###### please specify the correct file path in the training_file ,validation_file and testing_file\n"
   ]
  },
  {
   "cell_type": "code",
   "execution_count": 1,
   "metadata": {
    "collapsed": true,
    "deletable": true,
    "editable": true
   },
   "outputs": [],
   "source": [
    "import random\n",
    "import cv2\n",
    "import pickle\n",
    "import tensorflow as tf\n",
    "import csv\n",
    "import numpy as np\n",
    "from sklearn.utils import shuffle\n",
    "import matplotlib.pyplot as plt\n",
    "import random\n",
    "from tensorflow.contrib.layers import flatten\n",
    "%matplotlib inline\n"
   ]
  },
  {
   "cell_type": "code",
   "execution_count": 2,
   "metadata": {
    "collapsed": false,
    "deletable": true,
    "editable": true
   },
   "outputs": [],
   "source": [
    "\n",
    "\n",
    "training_file ='D:\\\\tutorials\\\\nanodegree\\\\SDC\\\\unit_6_Traffic_sign_classifier\\\\CarND-Traffic-Sign-Classifier-Project\\\\train.p' \n",
    "validation_file='D:\\\\tutorials\\\\nanodegree\\\\SDC\\\\unit_6_Traffic_sign_classifier\\\\CarND-Traffic-Sign-Classifier-Project\\\\valid.p'\n",
    "testing_file = 'D:\\\\tutorials\\\\nanodegree\\\\SDC\\\\unit_6_Traffic_sign_classifier\\\\CarND-Traffic-Sign-Classifier-Project\\\\test.p'\n",
    "\n",
    "\n",
    "with open(training_file, mode='rb') as f:\n",
    "    train = pickle.load(f)\n",
    "with open(validation_file, mode='rb') as f:\n",
    "    valid = pickle.load(f)\n",
    "with open(testing_file, mode='rb') as f:\n",
    "    test = pickle.load(f)\n",
    "    \n",
    "X_train, y_train = train['features'], train['labels']\n",
    "X_valid, y_valid = valid['features'], valid['labels']\n",
    "X_test, y_test = test['features'], test['labels']"
   ]
  },
  {
   "cell_type": "markdown",
   "metadata": {
    "deletable": true,
    "editable": true
   },
   "source": [
    "### sign name \n",
    "the labels in the training data uses specific numbers to identify different signs . the filesignnames.csv has the number mapped for the sign type . this code  block is goingto create a dictionary of numbers to the sign type . this will come in handy when we classify our own images taken from internet"
   ]
  },
  {
   "cell_type": "code",
   "execution_count": 4,
   "metadata": {
    "collapsed": false,
    "deletable": true,
    "editable": true
   },
   "outputs": [],
   "source": [
    "# create a dictionary with class number and sign name pair\n",
    "\n",
    "signValues = {}\n",
    "with open('signnames.csv',newline='') as file :\n",
    "    read = csv.reader(file,delimiter = ',', quotechar='|')\n",
    "    for row in read:\n",
    "        if row[0] != 'ClassId':\n",
    "            signValues[int(row[0])] = row[1]"
   ]
  },
  {
   "cell_type": "code",
   "execution_count": 3,
   "metadata": {
    "collapsed": true,
    "deletable": true,
    "editable": true
   },
   "outputs": [],
   "source": [
    "BATCH_SIZE = 256"
   ]
  },
  {
   "cell_type": "markdown",
   "metadata": {
    "deletable": true,
    "editable": true
   },
   "source": [
    "### summery of our data"
   ]
  },
  {
   "cell_type": "code",
   "execution_count": 5,
   "metadata": {
    "collapsed": false,
    "deletable": true,
    "editable": true
   },
   "outputs": [
    {
     "name": "stdout",
     "output_type": "stream",
     "text": [
      "Number of training examples = 34799\n",
      "Number of testing examples = 12630\n",
      "Image data shape = (32, 32, 3)\n",
      "Number of classes = 42\n"
     ]
    }
   ],
   "source": [
    "\n",
    "\n",
    "n_train = X_train.shape[:][0]\n",
    "\n",
    "\n",
    "n_test =  y_test.shape[:][0]\n",
    "\n",
    "\n",
    "image_shape = X_train[0].shape\n",
    "\n",
    "n_classes = np.max(y_train)\n",
    "\n",
    "print(\"Number of training examples =\", n_train)\n",
    "print(\"Number of testing examples =\", n_test)\n",
    "print(\"Image data shape =\", image_shape)\n",
    "print(\"Number of classes =\", n_classes)"
   ]
  },
  {
   "cell_type": "markdown",
   "metadata": {
    "deletable": true,
    "editable": true
   },
   "source": [
    "### Distribution of data set"
   ]
  },
  {
   "cell_type": "code",
   "execution_count": 12,
   "metadata": {
    "collapsed": false,
    "deletable": true,
    "editable": true
   },
   "outputs": [
    {
     "data": {
      "text/plain": [
       "<matplotlib.text.Text at 0x190843b9550>"
      ]
     },
     "execution_count": 12,
     "metadata": {},
     "output_type": "execute_result"
    },
    {
     "data": {
      "image/png": "[encoded data removed]",
      "text/plain": [
       "<matplotlib.figure.Figure at 0x190f34bf0b8>"
      ]
     },
     "metadata": {},
     "output_type": "display_data"
    }
   ],
   "source": [
    "label , num = np.unique (y_train , return_counts = True)# return two list of unique label and their count \n",
    "\n",
    "plt.rcParams[\"figure.figsize\"] = [15,7]\n",
    "plt.bar(label, num, tick_label=label, width=0.5, align='center')\n",
    "plt.title('Visualization of distribution')"
   ]
  },
  {
   "cell_type": "markdown",
   "metadata": {
    "deletable": true,
    "editable": true
   },
   "source": [
    "### preprocess and augment the training data"
   ]
  },
  {
   "cell_type": "markdown",
   "metadata": {
    "collapsed": true,
    "deletable": true,
    "editable": true
   },
   "source": [
    "our training data is made up of 32X3X3 (BGR) . training on this data is one way of approach\n",
    "but , the number of training data provided is much less . i am going to augment the data by adding slight transformation to the images by a pixel of (0,5) range . this will produce 10,000 image addition to hte traininig data provided and this will help in overcoming the problem of overfitting "
   ]
  },
  {
   "cell_type": "code",
   "execution_count": 8,
   "metadata": {
    "collapsed": false,
    "deletable": true,
    "editable": true
   },
   "outputs": [
    {
     "name": "stdout",
     "output_type": "stream",
     "text": [
      "(44799, 32, 32, 3)\n"
     ]
    }
   ],
   "source": [
    "\n",
    "\n",
    "k = []\n",
    "l = []\n",
    "# width and height of the imput image \n",
    "width = X_train.shape[1] \n",
    "col = X_train.shape[2]\n",
    "\n",
    "for i in range(X_train.shape[:][0]):\n",
    "    k.append(X_train[i]) #reshaping temp image of size 32X32 to 32X32X1\n",
    "    l.append(y_train[i])\n",
    "\n",
    "# create 10000 additional training data by transforming training  data  \n",
    "v = 0\n",
    "\n",
    "while v < 10000:\n",
    "    v+=1\n",
    "        \n",
    "    \n",
    "    rand = random.randint(0,X_train.shape[0]-1) # generate a random varable to choose an image \n",
    "    img = X_train[rand]\n",
    "    w,h = random.randint(0,5),random.randint(0,5)# generate a random varable to shift the image by pixels\n",
    "    M = np.float32([[1,0,w],[0,1,h]])\n",
    "        \n",
    "    opt = cv2.warpAffine(img,M,(col,width))\n",
    "    k.append(opt)\n",
    "    l.append(y_train[rand]) # grab and add the training label for the specific trafic sign\n",
    "\n",
    "  \n",
    "    \n",
    "X_train = np.array(k)\n",
    "y_train = np.array(l)\n",
    "print (X_train.shape)\n"
   ]
  },
  {
   "cell_type": "markdown",
   "metadata": {
    "deletable": true,
    "editable": true
   },
   "source": [
    "### shuffling of data"
   ]
  },
  {
   "cell_type": "code",
   "execution_count": 9,
   "metadata": {
    "collapsed": false,
    "deletable": true,
    "editable": true
   },
   "outputs": [],
   "source": [
    "\n",
    "X_train, y_train = shuffle(X_train, y_train)\n",
    "X_test, y_test = shuffle(X_test, y_test)\n",
    "X_valid, y_valid = shuffle(X_valid, y_valid)"
   ]
  },
  {
   "cell_type": "markdown",
   "metadata": {
    "collapsed": true,
    "deletable": true,
    "editable": true
   },
   "source": [
    "### visualization of the Training Image"
   ]
  },
  {
   "cell_type": "code",
   "execution_count": 10,
   "metadata": {
    "collapsed": false,
    "deletable": true,
    "editable": true
   },
   "outputs": [
    {
     "data": {
      "image/png": "[encoded data removed]",
      "text/plain": [
       "<matplotlib.figure.Figure at 0x190ed711ac8>"
      ]
     },
     "metadata": {},
     "output_type": "display_data"
    }
   ],
   "source": [
    "\n",
    "\n",
    "\n",
    "%matplotlib inline\n",
    "\n",
    "\n",
    "\n",
    "\n",
    "#plt.set_window_title('hi')\n",
    "_,a = plt.subplots(2,2)\n",
    "\n",
    "for i in range(0,2):\n",
    "    for j in range(0,2):\n",
    "        \n",
    "        w = random.randint(0,X_train.shape[0])\n",
    "        a[i][j].imshow( X_train[w].squeeze())\n",
    "        a[i][j].set_title(signValues[y_train[w]])\n",
    "        \n",
    "plt.show()\n",
    "\n",
    "\n"
   ]
  },
  {
   "cell_type": "markdown",
   "metadata": {
    "deletable": true,
    "editable": true
   },
   "source": [
    "### Model Architecture"
   ]
  },
  {
   "cell_type": "markdown",
   "metadata": {
    "deletable": true,
    "editable": true
   },
   "source": [
    "### function to create convolution layer "
   ]
  },
  {
   "cell_type": "markdown",
   "metadata": {
    "deletable": true,
    "editable": true
   },
   "source": [
    "conv2d ( input (Tf placeholder) , filter (Weights) , stride size , padding ('VALID','SAME') , biase  )\n",
    "\n",
    "this function takes input (tf constant , image , convolute layer ) , weights , and biase , create convolute layer\n",
    "using provided weight , adds biases to it and applies relu "
   ]
  },
  {
   "cell_type": "code",
   "execution_count": 6,
   "metadata": {
    "collapsed": true,
    "deletable": true,
    "editable": true
   },
   "outputs": [],
   "source": [
    "def conv2d(input,filter,strides,padding,biase):\n",
    "    #creation of a convolution layer\n",
    "    convLayer = tf.nn.conv2d(input,filter,strides,padding)\n",
    "    convLayer = tf.nn.bias_add(convLayer,biase)\n",
    "    convLayer = tf.nn.relu(convLayer)\n",
    "    return convLayer"
   ]
  },
  {
   "cell_type": "markdown",
   "metadata": {
    "deletable": true,
    "editable": true
   },
   "source": [
    "### function to apply pooling to the convolute layer "
   ]
  },
  {
   "cell_type": "markdown",
   "metadata": {
    "deletable": true,
    "editable": true
   },
   "source": [
    "pooling ( input (convolute layer) , ksize (window ) , stride , padding('VOID ' , 'SAME))"
   ]
  },
  {
   "cell_type": "code",
   "execution_count": 7,
   "metadata": {
    "collapsed": true,
    "deletable": true,
    "editable": true
   },
   "outputs": [],
   "source": [
    "def pooling(input , ksize , strides , padding):\n",
    "    maxPool = tf.nn.max_pool(input , ksize , strides , padding)# applying max pooling to the convolute lyer\n",
    "    return maxPool\n",
    "    "
   ]
  },
  {
   "cell_type": "code",
   "execution_count": 8,
   "metadata": {
    "collapsed": true,
    "deletable": true,
    "editable": true
   },
   "outputs": [],
   "source": [
    "# definition of mean and standerd deviation for truncated normal\n",
    "mu = 0\n",
    "sigma = 0.01"
   ]
  },
  {
   "cell_type": "markdown",
   "metadata": {
    "deletable": true,
    "editable": true
   },
   "source": [
    "### Define placeholder"
   ]
  },
  {
   "cell_type": "code",
   "execution_count": 9,
   "metadata": {
    "collapsed": false,
    "deletable": true,
    "editable": true
   },
   "outputs": [],
   "source": [
    "x = tf.placeholder(tf.float32, (None, 32, 32, 3))# image placeholder for grayscale image with dimention (None ,32,32,1)\n",
    "y = tf.placeholder(tf.int32, (None))# image label placeholder\n",
    "one_hot_y = tf.one_hot(y, 42)# label converted to oh hot encoding for easy classification by neurons in output layer\n",
    "dropout = tf.placeholder(tf.float32,(None))# dropout place holder ( 0.0 - 1.0)"
   ]
  },
  {
   "cell_type": "markdown",
   "metadata": {
    "deletable": true,
    "editable": true
   },
   "source": [
    "### Weights and Biase variable definition "
   ]
  },
  {
   "cell_type": "markdown",
   "metadata": {
    "deletable": true,
    "editable": true
   },
   "source": [
    "#### for convolution layer"
   ]
  },
  {
   "cell_type": "code",
   "execution_count": 10,
   "metadata": {
    "collapsed": false,
    "deletable": true,
    "editable": true
   },
   "outputs": [],
   "source": [
    "# definition of weights \n",
    "weights2 = {'wc1':tf.Variable(tf.truncated_normal([3,3,3,16],mean = mu , stddev = sigma)),# [height , width , ip_dimention , op_dimention]\n",
    "           'wc2':tf.Variable(tf.truncated_normal([5,5,16,64],mean = mu , stddev = sigma)),\n",
    "           'wc3':tf.Variable(tf.truncated_normal([3,3,64,128],mean = mu , stddev = sigma)),\n",
    "           'wc4':tf.Variable(tf.truncated_normal([3,3,128,64],mean = mu , stddev = sigma))}\n",
    "biases2  = {'bc1':tf.Variable(tf.truncated_normal([16],mean = mu , stddev = sigma)),\n",
    "           'bc2':tf.Variable(tf.truncated_normal([64],mean = mu , stddev = sigma)),\n",
    "           'bc3':tf.Variable(tf.truncated_normal([128],mean = mu , stddev = sigma)),\n",
    "           'bc4':tf.Variable(tf.truncated_normal([64],mean = mu , stddev = sigma))}"
   ]
  },
  {
   "cell_type": "markdown",
   "metadata": {
    "deletable": true,
    "editable": true
   },
   "source": [
    "#### for fully connected layer"
   ]
  },
  {
   "cell_type": "code",
   "execution_count": 11,
   "metadata": {
    "collapsed": true,
    "deletable": true,
    "editable": true
   },
   "outputs": [],
   "source": [
    "# defining weights and biases for fully connected layer\n",
    "weightFullyConnected2 = {'wf1':tf.Variable(tf.truncated_normal([2304,1024],mean = mu , stddev = sigma)),\n",
    "                        'wf2':tf.Variable(tf.truncated_normal([1024,1024],mean = mu , stddev = sigma)),\n",
    "                        'out':tf.Variable(tf.truncated_normal([1024,42],mean = mu , stddev = sigma))}\n",
    "biasesFullyConnected2 = {'bf1':tf.Variable(tf.truncated_normal([1024],mean = mu , stddev = sigma)),#120 - 320\n",
    "                        'bf2':tf.Variable(tf.truncated_normal([1024],mean = mu , stddev = sigma)),\n",
    "                        'out':tf.Variable(tf.truncated_normal([42],mean = mu , stddev = sigma))}"
   ]
  },
  {
   "cell_type": "markdown",
   "metadata": {
    "deletable": true,
    "editable": true
   },
   "source": [
    "### Graph definition "
   ]
  },
  {
   "cell_type": "code",
   "execution_count": 12,
   "metadata": {
    "collapsed": false,
    "deletable": true,
    "editable": true
   },
   "outputs": [],
   "source": [
    "\n",
    "def graph1(x):\n",
    "    \n",
    "    layer1 = conv2d(x,weights2['wc1'],[1,1,1,1],'SAME',biases2['bc1'])\n",
    "    layer1 = pooling(layer1,[1,3,3,1],[1,1,1,1],'SAME')# C\n",
    "\n",
    "    layer2 = conv2d(layer1,weights2['wc2'],[1,3,3,1],'VALID',biases2['bc2'])\n",
    "\n",
    "    layer2 = pooling(layer2,[1,3,3,1],[1,1,1,1],'VALID')# C\n",
    "\n",
    "    layer3 = conv2d(layer2,weights2['wc3'],[1,1,1,1],'SAME',biases2['bc3'])\n",
    "\n",
    "    layer4 = conv2d(layer3,weights2['wc4'],[1,1,1,1],'SAME',biases2['bc4'])\n",
    "\n",
    "    layer4 = pooling(layer4,[1,3,3,1],[1,1,1,1],'VALID') # c\n",
    "\n",
    "\n",
    "    # adding flatten to \n",
    "    flatInput = flatten(layer4)\n",
    "\n",
    "    fc1 = tf.add(tf.matmul(flatInput,weightFullyConnected2['wf1']),biasesFullyConnected2['bf1'])\n",
    "    fc1 = tf.nn.dropout(fc1,dropout)\n",
    "\n",
    "    fc2 = tf.add(tf.matmul(fc1,weightFullyConnected2['wf2']),biasesFullyConnected2['bf2'])\n",
    "    fc2 = tf.nn.dropout(fc2,dropout)\n",
    "\n",
    "    out = tf.add(tf.matmul(fc2,weightFullyConnected2['out']),biasesFullyConnected2['out'])\n",
    "    return out\n"
   ]
  },
  {
   "cell_type": "markdown",
   "metadata": {
    "deletable": true,
    "editable": true
   },
   "source": [
    "### To visualize the model\n",
    "To visualize the features of eaxh layers , we have to pass the data through the seperately . defining them here will\n",
    "help us to vizualize those features (to see visualization , go down )"
   ]
  },
  {
   "cell_type": "code",
   "execution_count": 13,
   "metadata": {
    "collapsed": false,
    "deletable": true,
    "editable": true
   },
   "outputs": [],
   "source": [
    "layer1 = conv2d(x,weights2['wc1'],[1,1,1,1],'SAME',biases2['bc1'])\n",
    "layer1pooling = pooling(layer1,[1,3,3,1],[1,1,1,1],'SAME')# C\n",
    "\n",
    "layer2 = conv2d(layer1,weights2['wc2'],[1,3,3,1],'VALID',biases2['bc2'])\n",
    "\n",
    "layer2pooling = pooling(layer2,[1,3,3,1],[1,1,1,1],'VALID')# C\n",
    "\n",
    "layer3 = conv2d(layer2,weights2['wc3'],[1,1,1,1],'SAME',biases2['bc3'])\n",
    "\n",
    "layer4 = conv2d(layer3,weights2['wc4'],[1,1,1,1],'SAME',biases2['bc4'])\n",
    "\n",
    "layer4pooling = pooling(layer4,[1,3,3,1],[1,1,1,1],'VALID') # c\n"
   ]
  },
  {
   "cell_type": "markdown",
   "metadata": {
    "deletable": true,
    "editable": true
   },
   "source": [
    "### Initialization of methods "
   ]
  },
  {
   "cell_type": "code",
   "execution_count": 14,
   "metadata": {
    "collapsed": false,
    "deletable": true,
    "editable": true
   },
   "outputs": [],
   "source": [
    "rate = 0.0004#5e-3#0.005\n",
    "\n",
    "logits = graph1(x)\n",
    "cross_entropy = tf.nn.softmax_cross_entropy_with_logits(logits = logits, labels = one_hot_y)#one_hot_y :y\n",
    "just_soft_max = tf.nn.softmax(logits)\n",
    "loss_operation = tf.reduce_mean(cross_entropy)\n",
    "#optimizer = tf.train.AdamOptimizer(learning_rate = rate)\n",
    "optimizer = tf.train.RMSPropOptimizer(learning_rate = rate)\n",
    "training_operation = optimizer.minimize(loss_operation)"
   ]
  },
  {
   "cell_type": "code",
   "execution_count": 15,
   "metadata": {
    "collapsed": false,
    "deletable": true,
    "editable": true
   },
   "outputs": [],
   "source": [
    "correct_prediction = tf.equal(tf.argmax(logits, 1), tf.argmax(one_hot_y, 1))#one_hot_y :y\n",
    "accuracy_operation = tf.reduce_mean(tf.cast(correct_prediction, tf.float32))\n",
    "predictions = tf.argmax(logits, 1)\n",
    "saver = tf.train.Saver()\n",
    "\n",
    "def evaluate(X_data, y_data):\n",
    "    num_examples = len(X_data)\n",
    "    total_accuracy = 0\n",
    "    sess = tf.get_default_session()\n",
    "    for offset in range(0, num_examples, BATCH_SIZE):\n",
    "        batch_x, batch_y = X_data[offset:offset+BATCH_SIZE], y_data[offset:offset+BATCH_SIZE]\n",
    "        accuracy = sess.run(accuracy_operation, feed_dict={x: batch_x, y: batch_y,dropout : 1.0})\n",
    "        total_accuracy += (accuracy * len(batch_x))\n",
    "    return total_accuracy / num_examples"
   ]
  },
  {
   "cell_type": "markdown",
   "metadata": {
    "deletable": true,
    "editable": true
   },
   "source": [
    "#### create a file named model on the working directory so that you will have a seperate place to store your model for furthur usage "
   ]
  },
  {
   "cell_type": "code",
   "execution_count": 19,
   "metadata": {
    "collapsed": true,
    "deletable": true,
    "editable": true
   },
   "outputs": [],
   "source": [
    "model = 'D:\\\\tutorials\\\\nanodegree\\\\SDC\\\\projectsUploaded\\\\3_trafic_signal\\\\model\\\\data.ckpt'"
   ]
  },
  {
   "cell_type": "markdown",
   "metadata": {
    "deletable": true,
    "editable": true
   },
   "source": [
    "### Train, Validate and Test the Model"
   ]
  },
  {
   "cell_type": "markdown",
   "metadata": {
    "deletable": true,
    "editable": true
   },
   "source": [
    "A validation set can be used to assess how well the model is performing. A low accuracy on the training and validation\n",
    "sets imply underfitting. A high accuracy on the training set but low accuracy on the validation set implies overfitting."
   ]
  },
  {
   "cell_type": "code",
   "execution_count": 20,
   "metadata": {
    "collapsed": true,
    "deletable": true,
    "editable": true
   },
   "outputs": [],
   "source": [
    "EPOCHS=9"
   ]
  },
  {
   "cell_type": "code",
   "execution_count": null,
   "metadata": {
    "collapsed": false,
    "deletable": true,
    "editable": true
   },
   "outputs": [
    {
     "name": "stdout",
     "output_type": "stream",
     "text": [
      "Training...\n",
      "\n",
      "EPOCH 1 ...\n",
      "Validation Accuracy = 0.054\n",
      "time for epoch 0 is -395.7584273815155\n",
      "\n"
     ]
    }
   ],
   "source": [
    "from sklearn.utils import shuffle\n",
    "import time\n",
    "start_time = time.time()\n",
    "with tf.Session() as sess:\n",
    "    sess.run(tf.global_variables_initializer())\n",
    "    num_examples = len(X_train)\n",
    "    \n",
    "    print(\"Training...\")\n",
    "    print()\n",
    "    for i in range(EPOCHS):\n",
    "        X_train, y_train = shuffle(X_train, y_train)\n",
    "        \n",
    "        for offset in range(0, num_examples, BATCH_SIZE):\n",
    "            end = offset + BATCH_SIZE\n",
    "            batch_x, batch_y = X_train[offset:end], y_train[offset:end]\n",
    "            \n",
    "        \n",
    "            sess.run(training_operation, feed_dict={x: batch_x, y: batch_y,dropout:0.1})\n",
    "            \n",
    "        validation_accuracy = evaluate(X_valid, y_valid)\n",
    "        print(\"EPOCH {} ...\".format(i+1))\n",
    "        print(\"Validation Accuracy = {:.3f}\".format(validation_accuracy))\n",
    "        print ('time for epoch {} is {}'.format(i,start_time - time.time()))\n",
    "        print()\n",
    "        \n",
    "    #saver.save(sess, model)\n",
    "    #saver.save(sess, './lenet')\n",
    "    saver.save(sess, model)\n",
    "    print(\"Model saved\")\n",
    "    print ('total time {}'.format(time.time()-start_time))\n",
    "    \n",
    "    \n",
    "    "
   ]
  },
  {
   "cell_type": "markdown",
   "metadata": {
    "deletable": true,
    "editable": true
   },
   "source": [
    "### Testing your model"
   ]
  },
  {
   "cell_type": "code",
   "execution_count": 21,
   "metadata": {
    "collapsed": false,
    "deletable": true,
    "editable": true
   },
   "outputs": [
    {
     "ename": "NotFoundError",
     "evalue": "NewRandomAccessFile failed to Create/Open: D:\\tutorials\\nanodegree\\SDC\\projectsUploaded\\3_trafic_signal\\model\\data.ckpt.data-00000-of-00001 : The system cannot find the file specified.\r\n\n\t [[Node: save/RestoreV2_41 = RestoreV2[dtypes=[DT_FLOAT], _device=\"/job:localhost/replica:0/task:0/cpu:0\"](_recv_save/Const_0, save/RestoreV2_41/tensor_names, save/RestoreV2_41/shape_and_slices)]]\n\nCaused by op 'save/RestoreV2_41', defined at:\n  File \"C:\\Users\\yuvaram\\Miniconda3\\envs\\carnd-term1\\lib\\runpy.py\", line 184, in _run_module_as_main\n    \"__main__\", mod_spec)\n  File \"C:\\Users\\yuvaram\\Miniconda3\\envs\\carnd-term1\\lib\\runpy.py\", line 85, in _run_code\n    exec(code, run_globals)\n  File \"C:\\Users\\yuvaram\\Miniconda3\\envs\\carnd-term1\\lib\\site-packages\\ipykernel\\__main__.py\", line 3, in <module>\n    app.launch_new_instance()\n  File \"C:\\Users\\yuvaram\\Miniconda3\\envs\\carnd-term1\\lib\\site-packages\\traitlets\\config\\application.py\", line 658, in launch_instance\n    app.start()\n  File \"C:\\Users\\yuvaram\\Miniconda3\\envs\\carnd-term1\\lib\\site-packages\\ipykernel\\kernelapp.py\", line 474, in start\n    ioloop.IOLoop.instance().start()\n  File \"C:\\Users\\yuvaram\\Miniconda3\\envs\\carnd-term1\\lib\\site-packages\\zmq\\eventloop\\ioloop.py\", line 177, in start\n    super(ZMQIOLoop, self).start()\n  File \"C:\\Users\\yuvaram\\Miniconda3\\envs\\carnd-term1\\lib\\site-packages\\tornado\\ioloop.py\", line 887, in start\n    handler_func(fd_obj, events)\n  File \"C:\\Users\\yuvaram\\Miniconda3\\envs\\carnd-term1\\lib\\site-packages\\tornado\\stack_context.py\", line 275, in null_wrapper\n    return fn(*args, **kwargs)\n  File \"C:\\Users\\yuvaram\\Miniconda3\\envs\\carnd-term1\\lib\\site-packages\\zmq\\eventloop\\zmqstream.py\", line 440, in _handle_events\n    self._handle_recv()\n  File \"C:\\Users\\yuvaram\\Miniconda3\\envs\\carnd-term1\\lib\\site-packages\\zmq\\eventloop\\zmqstream.py\", line 472, in _handle_recv\n    self._run_callback(callback, msg)\n  File \"C:\\Users\\yuvaram\\Miniconda3\\envs\\carnd-term1\\lib\\site-packages\\zmq\\eventloop\\zmqstream.py\", line 414, in _run_callback\n    callback(*args, **kwargs)\n  File \"C:\\Users\\yuvaram\\Miniconda3\\envs\\carnd-term1\\lib\\site-packages\\tornado\\stack_context.py\", line 275, in null_wrapper\n    return fn(*args, **kwargs)\n  File \"C:\\Users\\yuvaram\\Miniconda3\\envs\\carnd-term1\\lib\\site-packages\\ipykernel\\kernelbase.py\", line 276, in dispatcher\n    return self.dispatch_shell(stream, msg)\n  File \"C:\\Users\\yuvaram\\Miniconda3\\envs\\carnd-term1\\lib\\site-packages\\ipykernel\\kernelbase.py\", line 228, in dispatch_shell\n    handler(stream, idents, msg)\n  File \"C:\\Users\\yuvaram\\Miniconda3\\envs\\carnd-term1\\lib\\site-packages\\ipykernel\\kernelbase.py\", line 390, in execute_request\n    user_expressions, allow_stdin)\n  File \"C:\\Users\\yuvaram\\Miniconda3\\envs\\carnd-term1\\lib\\site-packages\\ipykernel\\ipkernel.py\", line 196, in do_execute\n    res = shell.run_cell(code, store_history=store_history, silent=silent)\n  File \"C:\\Users\\yuvaram\\Miniconda3\\envs\\carnd-term1\\lib\\site-packages\\ipykernel\\zmqshell.py\", line 501, in run_cell\n    return super(ZMQInteractiveShell, self).run_cell(*args, **kwargs)\n  File \"C:\\Users\\yuvaram\\Miniconda3\\envs\\carnd-term1\\lib\\site-packages\\IPython\\core\\interactiveshell.py\", line 2717, in run_cell\n    interactivity=interactivity, compiler=compiler, result=result)\n  File \"C:\\Users\\yuvaram\\Miniconda3\\envs\\carnd-term1\\lib\\site-packages\\IPython\\core\\interactiveshell.py\", line 2821, in run_ast_nodes\n    if self.run_code(code, result):\n  File \"C:\\Users\\yuvaram\\Miniconda3\\envs\\carnd-term1\\lib\\site-packages\\IPython\\core\\interactiveshell.py\", line 2881, in run_code\n    exec(code_obj, self.user_global_ns, self.user_ns)\n  File \"<ipython-input-15-2371ba981fa3>\", line 4, in <module>\n    saver = tf.train.Saver()\n  File \"C:\\Users\\yuvaram\\Miniconda3\\envs\\carnd-term1\\lib\\site-packages\\tensorflow\\python\\training\\saver.py\", line 1051, in __init__\n    self.build()\n  File \"C:\\Users\\yuvaram\\Miniconda3\\envs\\carnd-term1\\lib\\site-packages\\tensorflow\\python\\training\\saver.py\", line 1081, in build\n    restore_sequentially=self._restore_sequentially)\n  File \"C:\\Users\\yuvaram\\Miniconda3\\envs\\carnd-term1\\lib\\site-packages\\tensorflow\\python\\training\\saver.py\", line 675, in build\n    restore_sequentially, reshape)\n  File \"C:\\Users\\yuvaram\\Miniconda3\\envs\\carnd-term1\\lib\\site-packages\\tensorflow\\python\\training\\saver.py\", line 402, in _AddRestoreOps\n    tensors = self.restore_op(filename_tensor, saveable, preferred_shard)\n  File \"C:\\Users\\yuvaram\\Miniconda3\\envs\\carnd-term1\\lib\\site-packages\\tensorflow\\python\\training\\saver.py\", line 242, in restore_op\n    [spec.tensor.dtype])[0])\n  File \"C:\\Users\\yuvaram\\Miniconda3\\envs\\carnd-term1\\lib\\site-packages\\tensorflow\\python\\ops\\gen_io_ops.py\", line 668, in restore_v2\n    dtypes=dtypes, name=name)\n  File \"C:\\Users\\yuvaram\\Miniconda3\\envs\\carnd-term1\\lib\\site-packages\\tensorflow\\python\\framework\\op_def_library.py\", line 763, in apply_op\n    op_def=op_def)\n  File \"C:\\Users\\yuvaram\\Miniconda3\\envs\\carnd-term1\\lib\\site-packages\\tensorflow\\python\\framework\\ops.py\", line 2395, in create_op\n    original_op=self._default_original_op, op_def=op_def)\n  File \"C:\\Users\\yuvaram\\Miniconda3\\envs\\carnd-term1\\lib\\site-packages\\tensorflow\\python\\framework\\ops.py\", line 1264, in __init__\n    self._traceback = _extract_stack()\n\nNotFoundError (see above for traceback): NewRandomAccessFile failed to Create/Open: D:\\tutorials\\nanodegree\\SDC\\projectsUploaded\\3_trafic_signal\\model\\data.ckpt.data-00000-of-00001 : The system cannot find the file specified.\r\n\n\t [[Node: save/RestoreV2_41 = RestoreV2[dtypes=[DT_FLOAT], _device=\"/job:localhost/replica:0/task:0/cpu:0\"](_recv_save/Const_0, save/RestoreV2_41/tensor_names, save/RestoreV2_41/shape_and_slices)]]\n",
     "output_type": "error",
     "traceback": [
      "\u001b[0;31m---------------------------------------------------------------------------\u001b[0m",
      "\u001b[0;31mNotFoundError\u001b[0m                             Traceback (most recent call last)",
      "\u001b[0;32mC:\\Users\\yuvaram\\Miniconda3\\envs\\carnd-term1\\lib\\site-packages\\tensorflow\\python\\client\\session.py\u001b[0m in \u001b[0;36m_do_call\u001b[0;34m(self, fn, *args)\u001b[0m\n\u001b[1;32m   1021\u001b[0m     \u001b[1;32mtry\u001b[0m\u001b[1;33m:\u001b[0m\u001b[1;33m\u001b[0m\u001b[0m\n\u001b[0;32m-> 1022\u001b[0;31m       \u001b[1;32mreturn\u001b[0m \u001b[0mfn\u001b[0m\u001b[1;33m(\u001b[0m\u001b[1;33m*\u001b[0m\u001b[0margs\u001b[0m\u001b[1;33m)\u001b[0m\u001b[1;33m\u001b[0m\u001b[0m\n\u001b[0m\u001b[1;32m   1023\u001b[0m     \u001b[1;32mexcept\u001b[0m \u001b[0merrors\u001b[0m\u001b[1;33m.\u001b[0m\u001b[0mOpError\u001b[0m \u001b[1;32mas\u001b[0m \u001b[0me\u001b[0m\u001b[1;33m:\u001b[0m\u001b[1;33m\u001b[0m\u001b[0m\n",
      "\u001b[0;32mC:\\Users\\yuvaram\\Miniconda3\\envs\\carnd-term1\\lib\\site-packages\\tensorflow\\python\\client\\session.py\u001b[0m in \u001b[0;36m_run_fn\u001b[0;34m(session, feed_dict, fetch_list, target_list, options, run_metadata)\u001b[0m\n\u001b[1;32m   1003\u001b[0m                                  \u001b[0mfeed_dict\u001b[0m\u001b[1;33m,\u001b[0m \u001b[0mfetch_list\u001b[0m\u001b[1;33m,\u001b[0m \u001b[0mtarget_list\u001b[0m\u001b[1;33m,\u001b[0m\u001b[1;33m\u001b[0m\u001b[0m\n\u001b[0;32m-> 1004\u001b[0;31m                                  status, run_metadata)\n\u001b[0m\u001b[1;32m   1005\u001b[0m \u001b[1;33m\u001b[0m\u001b[0m\n",
      "\u001b[0;32mC:\\Users\\yuvaram\\Miniconda3\\envs\\carnd-term1\\lib\\contextlib.py\u001b[0m in \u001b[0;36m__exit__\u001b[0;34m(self, type, value, traceback)\u001b[0m\n\u001b[1;32m     65\u001b[0m             \u001b[1;32mtry\u001b[0m\u001b[1;33m:\u001b[0m\u001b[1;33m\u001b[0m\u001b[0m\n\u001b[0;32m---> 66\u001b[0;31m                 \u001b[0mnext\u001b[0m\u001b[1;33m(\u001b[0m\u001b[0mself\u001b[0m\u001b[1;33m.\u001b[0m\u001b[0mgen\u001b[0m\u001b[1;33m)\u001b[0m\u001b[1;33m\u001b[0m\u001b[0m\n\u001b[0m\u001b[1;32m     67\u001b[0m             \u001b[1;32mexcept\u001b[0m \u001b[0mStopIteration\u001b[0m\u001b[1;33m:\u001b[0m\u001b[1;33m\u001b[0m\u001b[0m\n",
      "\u001b[0;32mC:\\Users\\yuvaram\\Miniconda3\\envs\\carnd-term1\\lib\\site-packages\\tensorflow\\python\\framework\\errors_impl.py\u001b[0m in \u001b[0;36mraise_exception_on_not_ok_status\u001b[0;34m()\u001b[0m\n\u001b[1;32m    468\u001b[0m           \u001b[0mcompat\u001b[0m\u001b[1;33m.\u001b[0m\u001b[0mas_text\u001b[0m\u001b[1;33m(\u001b[0m\u001b[0mpywrap_tensorflow\u001b[0m\u001b[1;33m.\u001b[0m\u001b[0mTF_Message\u001b[0m\u001b[1;33m(\u001b[0m\u001b[0mstatus\u001b[0m\u001b[1;33m)\u001b[0m\u001b[1;33m)\u001b[0m\u001b[1;33m,\u001b[0m\u001b[1;33m\u001b[0m\u001b[0m\n\u001b[0;32m--> 469\u001b[0;31m           pywrap_tensorflow.TF_GetCode(status))\n\u001b[0m\u001b[1;32m    470\u001b[0m   \u001b[1;32mfinally\u001b[0m\u001b[1;33m:\u001b[0m\u001b[1;33m\u001b[0m\u001b[0m\n",
      "\u001b[0;31mNotFoundError\u001b[0m: NewRandomAccessFile failed to Create/Open: D:\\tutorials\\nanodegree\\SDC\\projectsUploaded\\3_trafic_signal\\model\\data.ckpt.data-00000-of-00001 : The system cannot find the file specified.\r\n\n\t [[Node: save/RestoreV2_41 = RestoreV2[dtypes=[DT_FLOAT], _device=\"/job:localhost/replica:0/task:0/cpu:0\"](_recv_save/Const_0, save/RestoreV2_41/tensor_names, save/RestoreV2_41/shape_and_slices)]]",
      "\nDuring handling of the above exception, another exception occurred:\n",
      "\u001b[0;31mNotFoundError\u001b[0m                             Traceback (most recent call last)",
      "\u001b[0;32m<ipython-input-21-39eaf8b2fac0>\u001b[0m in \u001b[0;36m<module>\u001b[0;34m()\u001b[0m\n\u001b[1;32m      1\u001b[0m \u001b[1;32mwith\u001b[0m \u001b[0mtf\u001b[0m\u001b[1;33m.\u001b[0m\u001b[0mSession\u001b[0m\u001b[1;33m(\u001b[0m\u001b[1;33m)\u001b[0m \u001b[1;32mas\u001b[0m \u001b[0msess\u001b[0m\u001b[1;33m:\u001b[0m\u001b[1;33m\u001b[0m\u001b[0m\n\u001b[0;32m----> 2\u001b[0;31m     \u001b[0msaver\u001b[0m\u001b[1;33m.\u001b[0m\u001b[0mrestore\u001b[0m\u001b[1;33m(\u001b[0m\u001b[0msess\u001b[0m\u001b[1;33m,\u001b[0m \u001b[0mmodel\u001b[0m\u001b[1;33m)\u001b[0m\u001b[1;33m\u001b[0m\u001b[0m\n\u001b[0m\u001b[1;32m      3\u001b[0m     \u001b[1;31m#saver.restore(sess, tf.train.latest_checkpoint('.'))\u001b[0m\u001b[1;33m\u001b[0m\u001b[1;33m\u001b[0m\u001b[0m\n\u001b[1;32m      4\u001b[0m     \u001b[0mtestAccuracy\u001b[0m \u001b[1;33m=\u001b[0m \u001b[0mevaluate\u001b[0m\u001b[1;33m(\u001b[0m\u001b[0mX_test\u001b[0m\u001b[1;33m,\u001b[0m\u001b[0my_test\u001b[0m\u001b[1;33m)\u001b[0m\u001b[1;33m\u001b[0m\u001b[0m\n\u001b[1;32m      5\u001b[0m     \u001b[0mtrainAccuracy\u001b[0m \u001b[1;33m=\u001b[0m \u001b[0mevaluate\u001b[0m\u001b[1;33m(\u001b[0m\u001b[0mX_train\u001b[0m\u001b[1;33m,\u001b[0m\u001b[0my_train\u001b[0m\u001b[1;33m)\u001b[0m\u001b[1;33m\u001b[0m\u001b[0m\n",
      "\u001b[0;32mC:\\Users\\yuvaram\\Miniconda3\\envs\\carnd-term1\\lib\\site-packages\\tensorflow\\python\\training\\saver.py\u001b[0m in \u001b[0;36mrestore\u001b[0;34m(self, sess, save_path)\u001b[0m\n\u001b[1;32m   1437\u001b[0m       \u001b[1;32mreturn\u001b[0m\u001b[1;33m\u001b[0m\u001b[0m\n\u001b[1;32m   1438\u001b[0m     sess.run(self.saver_def.restore_op_name,\n\u001b[0;32m-> 1439\u001b[0;31m              {self.saver_def.filename_tensor_name: save_path})\n\u001b[0m\u001b[1;32m   1440\u001b[0m \u001b[1;33m\u001b[0m\u001b[0m\n\u001b[1;32m   1441\u001b[0m   \u001b[1;33m@\u001b[0m\u001b[0mstaticmethod\u001b[0m\u001b[1;33m\u001b[0m\u001b[0m\n",
      "\u001b[0;32mC:\\Users\\yuvaram\\Miniconda3\\envs\\carnd-term1\\lib\\site-packages\\tensorflow\\python\\client\\session.py\u001b[0m in \u001b[0;36mrun\u001b[0;34m(self, fetches, feed_dict, options, run_metadata)\u001b[0m\n\u001b[1;32m    765\u001b[0m     \u001b[1;32mtry\u001b[0m\u001b[1;33m:\u001b[0m\u001b[1;33m\u001b[0m\u001b[0m\n\u001b[1;32m    766\u001b[0m       result = self._run(None, fetches, feed_dict, options_ptr,\n\u001b[0;32m--> 767\u001b[0;31m                          run_metadata_ptr)\n\u001b[0m\u001b[1;32m    768\u001b[0m       \u001b[1;32mif\u001b[0m \u001b[0mrun_metadata\u001b[0m\u001b[1;33m:\u001b[0m\u001b[1;33m\u001b[0m\u001b[0m\n\u001b[1;32m    769\u001b[0m         \u001b[0mproto_data\u001b[0m \u001b[1;33m=\u001b[0m \u001b[0mtf_session\u001b[0m\u001b[1;33m.\u001b[0m\u001b[0mTF_GetBuffer\u001b[0m\u001b[1;33m(\u001b[0m\u001b[0mrun_metadata_ptr\u001b[0m\u001b[1;33m)\u001b[0m\u001b[1;33m\u001b[0m\u001b[0m\n",
      "\u001b[0;32mC:\\Users\\yuvaram\\Miniconda3\\envs\\carnd-term1\\lib\\site-packages\\tensorflow\\python\\client\\session.py\u001b[0m in \u001b[0;36m_run\u001b[0;34m(self, handle, fetches, feed_dict, options, run_metadata)\u001b[0m\n\u001b[1;32m    963\u001b[0m     \u001b[1;32mif\u001b[0m \u001b[0mfinal_fetches\u001b[0m \u001b[1;32mor\u001b[0m \u001b[0mfinal_targets\u001b[0m\u001b[1;33m:\u001b[0m\u001b[1;33m\u001b[0m\u001b[0m\n\u001b[1;32m    964\u001b[0m       results = self._do_run(handle, final_targets, final_fetches,\n\u001b[0;32m--> 965\u001b[0;31m                              feed_dict_string, options, run_metadata)\n\u001b[0m\u001b[1;32m    966\u001b[0m     \u001b[1;32melse\u001b[0m\u001b[1;33m:\u001b[0m\u001b[1;33m\u001b[0m\u001b[0m\n\u001b[1;32m    967\u001b[0m       \u001b[0mresults\u001b[0m \u001b[1;33m=\u001b[0m \u001b[1;33m[\u001b[0m\u001b[1;33m]\u001b[0m\u001b[1;33m\u001b[0m\u001b[0m\n",
      "\u001b[0;32mC:\\Users\\yuvaram\\Miniconda3\\envs\\carnd-term1\\lib\\site-packages\\tensorflow\\python\\client\\session.py\u001b[0m in \u001b[0;36m_do_run\u001b[0;34m(self, handle, target_list, fetch_list, feed_dict, options, run_metadata)\u001b[0m\n\u001b[1;32m   1013\u001b[0m     \u001b[1;32mif\u001b[0m \u001b[0mhandle\u001b[0m \u001b[1;32mis\u001b[0m \u001b[1;32mNone\u001b[0m\u001b[1;33m:\u001b[0m\u001b[1;33m\u001b[0m\u001b[0m\n\u001b[1;32m   1014\u001b[0m       return self._do_call(_run_fn, self._session, feed_dict, fetch_list,\n\u001b[0;32m-> 1015\u001b[0;31m                            target_list, options, run_metadata)\n\u001b[0m\u001b[1;32m   1016\u001b[0m     \u001b[1;32melse\u001b[0m\u001b[1;33m:\u001b[0m\u001b[1;33m\u001b[0m\u001b[0m\n\u001b[1;32m   1017\u001b[0m       return self._do_call(_prun_fn, self._session, handle, feed_dict,\n",
      "\u001b[0;32mC:\\Users\\yuvaram\\Miniconda3\\envs\\carnd-term1\\lib\\site-packages\\tensorflow\\python\\client\\session.py\u001b[0m in \u001b[0;36m_do_call\u001b[0;34m(self, fn, *args)\u001b[0m\n\u001b[1;32m   1033\u001b[0m         \u001b[1;32mexcept\u001b[0m \u001b[0mKeyError\u001b[0m\u001b[1;33m:\u001b[0m\u001b[1;33m\u001b[0m\u001b[0m\n\u001b[1;32m   1034\u001b[0m           \u001b[1;32mpass\u001b[0m\u001b[1;33m\u001b[0m\u001b[0m\n\u001b[0;32m-> 1035\u001b[0;31m       \u001b[1;32mraise\u001b[0m \u001b[0mtype\u001b[0m\u001b[1;33m(\u001b[0m\u001b[0me\u001b[0m\u001b[1;33m)\u001b[0m\u001b[1;33m(\u001b[0m\u001b[0mnode_def\u001b[0m\u001b[1;33m,\u001b[0m \u001b[0mop\u001b[0m\u001b[1;33m,\u001b[0m \u001b[0mmessage\u001b[0m\u001b[1;33m)\u001b[0m\u001b[1;33m\u001b[0m\u001b[0m\n\u001b[0m\u001b[1;32m   1036\u001b[0m \u001b[1;33m\u001b[0m\u001b[0m\n\u001b[1;32m   1037\u001b[0m   \u001b[1;32mdef\u001b[0m \u001b[0m_extend_graph\u001b[0m\u001b[1;33m(\u001b[0m\u001b[0mself\u001b[0m\u001b[1;33m)\u001b[0m\u001b[1;33m:\u001b[0m\u001b[1;33m\u001b[0m\u001b[0m\n",
      "\u001b[0;31mNotFoundError\u001b[0m: NewRandomAccessFile failed to Create/Open: D:\\tutorials\\nanodegree\\SDC\\projectsUploaded\\3_trafic_signal\\model\\data.ckpt.data-00000-of-00001 : The system cannot find the file specified.\r\n\n\t [[Node: save/RestoreV2_41 = RestoreV2[dtypes=[DT_FLOAT], _device=\"/job:localhost/replica:0/task:0/cpu:0\"](_recv_save/Const_0, save/RestoreV2_41/tensor_names, save/RestoreV2_41/shape_and_slices)]]\n\nCaused by op 'save/RestoreV2_41', defined at:\n  File \"C:\\Users\\yuvaram\\Miniconda3\\envs\\carnd-term1\\lib\\runpy.py\", line 184, in _run_module_as_main\n    \"__main__\", mod_spec)\n  File \"C:\\Users\\yuvaram\\Miniconda3\\envs\\carnd-term1\\lib\\runpy.py\", line 85, in _run_code\n    exec(code, run_globals)\n  File \"C:\\Users\\yuvaram\\Miniconda3\\envs\\carnd-term1\\lib\\site-packages\\ipykernel\\__main__.py\", line 3, in <module>\n    app.launch_new_instance()\n  File \"C:\\Users\\yuvaram\\Miniconda3\\envs\\carnd-term1\\lib\\site-packages\\traitlets\\config\\application.py\", line 658, in launch_instance\n    app.start()\n  File \"C:\\Users\\yuvaram\\Miniconda3\\envs\\carnd-term1\\lib\\site-packages\\ipykernel\\kernelapp.py\", line 474, in start\n    ioloop.IOLoop.instance().start()\n  File \"C:\\Users\\yuvaram\\Miniconda3\\envs\\carnd-term1\\lib\\site-packages\\zmq\\eventloop\\ioloop.py\", line 177, in start\n    super(ZMQIOLoop, self).start()\n  File \"C:\\Users\\yuvaram\\Miniconda3\\envs\\carnd-term1\\lib\\site-packages\\tornado\\ioloop.py\", line 887, in start\n    handler_func(fd_obj, events)\n  File \"C:\\Users\\yuvaram\\Miniconda3\\envs\\carnd-term1\\lib\\site-packages\\tornado\\stack_context.py\", line 275, in null_wrapper\n    return fn(*args, **kwargs)\n  File \"C:\\Users\\yuvaram\\Miniconda3\\envs\\carnd-term1\\lib\\site-packages\\zmq\\eventloop\\zmqstream.py\", line 440, in _handle_events\n    self._handle_recv()\n  File \"C:\\Users\\yuvaram\\Miniconda3\\envs\\carnd-term1\\lib\\site-packages\\zmq\\eventloop\\zmqstream.py\", line 472, in _handle_recv\n    self._run_callback(callback, msg)\n  File \"C:\\Users\\yuvaram\\Miniconda3\\envs\\carnd-term1\\lib\\site-packages\\zmq\\eventloop\\zmqstream.py\", line 414, in _run_callback\n    callback(*args, **kwargs)\n  File \"C:\\Users\\yuvaram\\Miniconda3\\envs\\carnd-term1\\lib\\site-packages\\tornado\\stack_context.py\", line 275, in null_wrapper\n    return fn(*args, **kwargs)\n  File \"C:\\Users\\yuvaram\\Miniconda3\\envs\\carnd-term1\\lib\\site-packages\\ipykernel\\kernelbase.py\", line 276, in dispatcher\n    return self.dispatch_shell(stream, msg)\n  File \"C:\\Users\\yuvaram\\Miniconda3\\envs\\carnd-term1\\lib\\site-packages\\ipykernel\\kernelbase.py\", line 228, in dispatch_shell\n    handler(stream, idents, msg)\n  File \"C:\\Users\\yuvaram\\Miniconda3\\envs\\carnd-term1\\lib\\site-packages\\ipykernel\\kernelbase.py\", line 390, in execute_request\n    user_expressions, allow_stdin)\n  File \"C:\\Users\\yuvaram\\Miniconda3\\envs\\carnd-term1\\lib\\site-packages\\ipykernel\\ipkernel.py\", line 196, in do_execute\n    res = shell.run_cell(code, store_history=store_history, silent=silent)\n  File \"C:\\Users\\yuvaram\\Miniconda3\\envs\\carnd-term1\\lib\\site-packages\\ipykernel\\zmqshell.py\", line 501, in run_cell\n    return super(ZMQInteractiveShell, self).run_cell(*args, **kwargs)\n  File \"C:\\Users\\yuvaram\\Miniconda3\\envs\\carnd-term1\\lib\\site-packages\\IPython\\core\\interactiveshell.py\", line 2717, in run_cell\n    interactivity=interactivity, compiler=compiler, result=result)\n  File \"C:\\Users\\yuvaram\\Miniconda3\\envs\\carnd-term1\\lib\\site-packages\\IPython\\core\\interactiveshell.py\", line 2821, in run_ast_nodes\n    if self.run_code(code, result):\n  File \"C:\\Users\\yuvaram\\Miniconda3\\envs\\carnd-term1\\lib\\site-packages\\IPython\\core\\interactiveshell.py\", line 2881, in run_code\n    exec(code_obj, self.user_global_ns, self.user_ns)\n  File \"<ipython-input-15-2371ba981fa3>\", line 4, in <module>\n    saver = tf.train.Saver()\n  File \"C:\\Users\\yuvaram\\Miniconda3\\envs\\carnd-term1\\lib\\site-packages\\tensorflow\\python\\training\\saver.py\", line 1051, in __init__\n    self.build()\n  File \"C:\\Users\\yuvaram\\Miniconda3\\envs\\carnd-term1\\lib\\site-packages\\tensorflow\\python\\training\\saver.py\", line 1081, in build\n    restore_sequentially=self._restore_sequentially)\n  File \"C:\\Users\\yuvaram\\Miniconda3\\envs\\carnd-term1\\lib\\site-packages\\tensorflow\\python\\training\\saver.py\", line 675, in build\n    restore_sequentially, reshape)\n  File \"C:\\Users\\yuvaram\\Miniconda3\\envs\\carnd-term1\\lib\\site-packages\\tensorflow\\python\\training\\saver.py\", line 402, in _AddRestoreOps\n    tensors = self.restore_op(filename_tensor, saveable, preferred_shard)\n  File \"C:\\Users\\yuvaram\\Miniconda3\\envs\\carnd-term1\\lib\\site-packages\\tensorflow\\python\\training\\saver.py\", line 242, in restore_op\n    [spec.tensor.dtype])[0])\n  File \"C:\\Users\\yuvaram\\Miniconda3\\envs\\carnd-term1\\lib\\site-packages\\tensorflow\\python\\ops\\gen_io_ops.py\", line 668, in restore_v2\n    dtypes=dtypes, name=name)\n  File \"C:\\Users\\yuvaram\\Miniconda3\\envs\\carnd-term1\\lib\\site-packages\\tensorflow\\python\\framework\\op_def_library.py\", line 763, in apply_op\n    op_def=op_def)\n  File \"C:\\Users\\yuvaram\\Miniconda3\\envs\\carnd-term1\\lib\\site-packages\\tensorflow\\python\\framework\\ops.py\", line 2395, in create_op\n    original_op=self._default_original_op, op_def=op_def)\n  File \"C:\\Users\\yuvaram\\Miniconda3\\envs\\carnd-term1\\lib\\site-packages\\tensorflow\\python\\framework\\ops.py\", line 1264, in __init__\n    self._traceback = _extract_stack()\n\nNotFoundError (see above for traceback): NewRandomAccessFile failed to Create/Open: D:\\tutorials\\nanodegree\\SDC\\projectsUploaded\\3_trafic_signal\\model\\data.ckpt.data-00000-of-00001 : The system cannot find the file specified.\r\n\n\t [[Node: save/RestoreV2_41 = RestoreV2[dtypes=[DT_FLOAT], _device=\"/job:localhost/replica:0/task:0/cpu:0\"](_recv_save/Const_0, save/RestoreV2_41/tensor_names, save/RestoreV2_41/shape_and_slices)]]\n"
     ]
    }
   ],
   "source": [
    "with tf.Session() as sess:\n",
    "    saver.restore(sess, model)\n",
    "    #saver.restore(sess, tf.train.latest_checkpoint('.'))\n",
    "    testAccuracy = evaluate(X_test,y_test)\n",
    "    trainAccuracy = evaluate(X_train,y_train)\n",
    "    print ('the test accuracy of this model : {}'.format(testAccuracy))\n",
    "    print ('the train accuracy of this model : {}'.format(trainAccuracy))"
   ]
  },
  {
   "cell_type": "markdown",
   "metadata": {
    "deletable": true,
    "editable": true
   },
   "source": [
    "### Load New Image "
   ]
  },
  {
   "cell_type": "markdown",
   "metadata": {
    "deletable": true,
    "editable": true
   },
   "source": [
    "this code block loads new image downloaded from online , reshapes them into 32X32X3 , converts it to grayscape and applies normalization , and add it to X_out with shape (None , 32 , 32 , 1)"
   ]
  },
  {
   "cell_type": "code",
   "execution_count": 146,
   "metadata": {
    "collapsed": false,
    "deletable": true,
    "editable": true
   },
   "outputs": [
    {
     "name": "stdout",
     "output_type": "stream",
     "text": [
      "(5, 32, 32, 3)\n"
     ]
    }
   ],
   "source": [
    "outTest = []\n",
    "        \n",
    "### use the appropriate Directory path based on yur os ( windows , mac , linux) each has a different type of file path \n",
    "### i am currently using Linux ( from Floydhub website )\n",
    "img1 ='./testPic/a.jpg'\n",
    "img2 ='./testPic/b.jpg'\n",
    "img3 ='./testPic/c.jpg'\n",
    "img4 ='./testPic/d.jpg'\n",
    "img5 ='./testPic/e.jpg'\n",
    "\n",
    "test1=cv2.resize(cv2.imread(img1,1),(32,32),interpolation = cv2.INTER_AREA)\n",
    "test2=cv2.resize(cv2.imread(img2,1),(32,32),interpolation = cv2.INTER_AREA)\n",
    "test3=cv2.resize(cv2.imread(img3,1),(32,32),interpolation = cv2.INTER_AREA)\n",
    "test4=cv2.resize(cv2.imread(img4,1),(32,32),interpolation = cv2.INTER_AREA)\n",
    "test5=cv2.resize(cv2.imread(img5,1),(32,32),interpolation = cv2.INTER_AREA)\n",
    "outTest.append(test1)\n",
    "outTest.append(test2)\n",
    "outTest.append(test3)\n",
    "outTest.append(test4)\n",
    "outTest.append(test5)\n",
    "X_out = np.array(outTest)\n",
    "print (X_out.shape)\n"
   ]
  },
  {
   "cell_type": "markdown",
   "metadata": {
    "deletable": true,
    "editable": true
   },
   "source": [
    "### Predict the Sign Type for Each Image "
   ]
  },
  {
   "cell_type": "code",
   "execution_count": 147,
   "metadata": {
    "collapsed": false,
    "deletable": true,
    "editable": true
   },
   "outputs": [
    {
     "name": "stdout",
     "output_type": "stream",
     "text": [
      "['Speed limit (20km/h)', 'Speed limit (60km/h)', 'Children crossing', 'Wild animals crossing', 'No entry']\n"
     ]
    }
   ],
   "source": [
    "\n",
    "with tf.Session() as sess:\n",
    "    saver.restore(sess, model)\n",
    "    #saver.restore(sess, tf.train.latest_checkpoint('.'))\n",
    "\n",
    "    pri = sess.run(predictions,feed_dict={x:X_out,dropout:1.0}) # predict the label for these images . use 1.0 for dropout value\n",
    "\n",
    "predictedSign = [signValues[x] for x in pri]\n",
    "print (predictedSign)"
   ]
  },
  {
   "cell_type": "markdown",
   "metadata": {
    "deletable": true,
    "editable": true
   },
   "source": [
    "### Analyze Performance"
   ]
  },
  {
   "cell_type": "code",
   "execution_count": 149,
   "metadata": {
    "collapsed": false,
    "deletable": true,
    "editable": true
   },
   "outputs": [
    {
     "name": "stdout",
     "output_type": "stream",
     "text": [
      "This is the percentage of accuracy for this test model 80.0%\n"
     ]
    }
   ],
   "source": [
    "hand_coded_labels = [0,3,28,31,33] # hand code the sign h=number using the signname.csv file provided \n",
    "count = 0\n",
    "for i in range(len(pri)):\n",
    "    if pri[i]== hand_coded_labels[i]: # check with the predicted result\n",
    "      count+=1\n",
    "percentage = (100/len(pri))*count # calculate the accuracy of your prediction \n",
    "print ('This is the percentage of accuracy for this test model {}%'.format(percentage))"
   ]
  },
  {
   "cell_type": "markdown",
   "metadata": {
    "deletable": true,
    "editable": true
   },
   "source": [
    "### Display the top softmax predictions for our own image "
   ]
  },
  {
   "cell_type": "code",
   "execution_count": 151,
   "metadata": {
    "collapsed": false,
    "deletable": true,
    "editable": true
   },
   "outputs": [
    {
     "name": "stdout",
     "output_type": "stream",
     "text": [
      "Speed limit (20km/h) = 0.99399\n",
      "Speed limit (60km/h) = 0.00599556\n",
      "End of speed limit (80km/h) = 1.40893e-05\n",
      "\n",
      "Speed limit (60km/h) = 0.999861\n",
      "Children crossing = 0.000129891\n",
      "Speed limit (20km/h) = 8.8125e-06\n",
      "\n",
      "Children crossing = 0.999998\n",
      "Speed limit (100km/h) = 1.5903e-06\n",
      "Bicycles crossing = 3.31714e-09\n",
      "\n",
      "Wild animals crossing = 0.998607\n",
      "Double curve = 0.00136221\n",
      "Dangerous curve to the left = 2.22656e-05\n",
      "\n",
      "No entry = 0.889737\n",
      "Speed limit (100km/h) = 0.108129\n",
      "Stop = 0.00211483\n",
      "\n"
     ]
    }
   ],
   "source": [
    "# printing the top 3 softmax prediction on the image taken from online\n",
    "with tf.Session() as sess:\n",
    "    saver.restore(sess, model)\n",
    "    #saver.restore(sess, tf.train.latest_checkpoint('.'))\n",
    "\n",
    "    softmaxValue = sess.run(tf.nn.top_k(just_soft_max,k=3),feed_dict={x:X_out,dropout:1.0})\n",
    "   \n",
    "\n",
    "index = softmaxValue[1]\n",
    "softmax = softmaxValue[0]\n",
    "for i in range (len(index)) :\n",
    "    print_index = index[i]\n",
    "    print_soft = softmax[i]\n",
    "    value = ''\n",
    "    for j in range(len(print_index)):\n",
    "        value += signValues[print_index[j]]\n",
    "        value += ' = '+str(print_soft[j]) \n",
    "        value +='\\n'\n",
    "    print (value)\n",
    " "
   ]
  },
  {
   "cell_type": "markdown",
   "metadata": {
    "deletable": true,
    "editable": true
   },
   "source": [
    "---\n",
    "\n",
    "##  Visualization of  the Neural Network's State with Test Images\n",
    "\n",
    " \n"
   ]
  },
  {
   "cell_type": "code",
   "execution_count": 152,
   "metadata": {
    "collapsed": true,
    "deletable": true,
    "editable": true
   },
   "outputs": [],
   "source": [
    "def outputFeatureMap(image_input, tf_activation, activation_min=-1, activation_max=-1 ,plt_num=1):\n",
    "    \n",
    "    activation = tf_activation.eval(session=sess,feed_dict={x : image_input,dropout:1.0})\n",
    "    featuremaps = activation.shape[3]\n",
    "    plt.figure(plt_num, figsize=(15,15))\n",
    "    for featuremap in range(featuremaps):\n",
    "        plt.subplot(6,8, featuremap+1) # sets the number of feature maps to show on each row and column\n",
    "        plt.title('FeatureMap ' + str(featuremap)) # displays the feature map number\n",
    "        if activation_min != -1 & activation_max != -1:\n",
    "            plt.imshow(activation[0,:,:, featuremap], interpolation=\"nearest\", vmin =activation_min, vmax=activation_max, cmap=\"gray\")\n",
    "        elif activation_max != -1:\n",
    "            plt.imshow(activation[0,:,:, featuremap], interpolation=\"nearest\", vmax=activation_max, cmap=\"gray\")\n",
    "        elif activation_min !=-1:\n",
    "            plt.imshow(activation[0,:,:, featuremap], interpolation=\"nearest\", vmin=activation_min, cmap=\"gray\")\n",
    "        else:\n",
    "            plt.imshow(activation[0,:,:, featuremap], interpolation=\"nearest\", cmap=\"gray\")"
   ]
  },
  {
   "cell_type": "code",
   "execution_count": 155,
   "metadata": {
    "collapsed": false,
    "deletable": true,
    "editable": true
   },
   "outputs": [
    {
     "data": {
      "image/png": "[encoded data removed]",
      "text/plain": [
       "<matplotlib.figure.Figure at 0x7f26261d1b38>"
      ]
     },
     "metadata": {},
     "output_type": "display_data"
    }
   ],
   "source": [
    "### to visualize the feature map \n",
    "with tf.Session() as sess:\n",
    "    #saver.restore(sess, model)\n",
    "    saver.restore(sess, tf.train.latest_checkpoint('.'))\n",
    "\n",
    "    outputFeatureMap(X_out[0:1], layer1 , activation_min=-1, activation_max=-1 ,plt_num=1)\n",
    "    "
   ]
  },
  {
   "cell_type": "markdown",
   "metadata": {
    "deletable": true,
    "editable": true
   },
   "source": [
    "### use of visualizing feature map \n",
    "\n",
    "visualization of feature map , clearly shows us the type of features which causes activation on our convalution layer \n",
    "\n",
    "the lighter pixels in the images , shows the  feature which causes activation , where the darker pixels represent no \n",
    "activation \n",
    "\n",
    "comparing these images with the original image , shows us a clear understanding of what casing activation "
   ]
  }
 ],
 "metadata": {
  "anaconda-cloud": {},
  "kernelspec": {
   "display_name": "Python 3",
   "language": "python",
   "name": "python3"
  },
  "language_info": {
   "codemirror_mode": {
    "name": "ipython",
    "version": 3
   },
   "file_extension": ".py",
   "mimetype": "text/x-python",
   "name": "python",
   "nbconvert_exporter": "python",
   "pygments_lexer": "ipython3",
   "version": "3.5.2"
  },
  "widgets": {
   "state": {},
   "version": "1.1.2"
  }
 },
 "nbformat": 4,
 "nbformat_minor": 1
}
