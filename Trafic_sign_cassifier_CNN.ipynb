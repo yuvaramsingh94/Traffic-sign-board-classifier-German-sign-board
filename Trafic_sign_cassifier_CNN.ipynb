{
 "cells": [
  {
   "cell_type": "markdown",
   "metadata": {
    "deletable": true,
    "editable": true
   },
   "source": [
    "---\n",
    "## Traffic sign classifier using Convolutional Neural Network"
   ]
  },
  {
   "cell_type": "markdown",
   "metadata": {
    "deletable": true,
    "editable": true
   },
   "source": [
    "this is a framework which can be used to classify images . in this program i had classified the german trafic sign images . using my model , i was able to classify some random images which i downloaded from online "
   ]
  },
  {
   "cell_type": "markdown",
   "metadata": {
    "deletable": true,
    "editable": true
   },
   "source": [
    "### loading datas\n",
    "load the training , validation , and testing data to work with your model\n",
    "\n",
    "###### please specify the correct file path in the training_file ,validation_file and testing_file\n"
   ]
  },
  {
   "cell_type": "code",
   "execution_count": 1,
   "metadata": {
    "collapsed": false,
    "deletable": true,
    "editable": true
   },
   "outputs": [],
   "source": [
    "# Load pickled data\n",
    "import pickle\n",
    "import tensorflow as tf\n",
    "\n",
    "training_file ='data\\\\train.p' \n",
    "validation_file='data\\\\valid.p'\n",
    "testing_file = 'data\\\\test.p'\n",
    "\n",
    "\n",
    "with open(training_file, mode='rb') as f:\n",
    "    train = pickle.load(f)\n",
    "with open(validation_file, mode='rb') as f:\n",
    "    valid = pickle.load(f)\n",
    "with open(testing_file, mode='rb') as f:\n",
    "    test = pickle.load(f)\n",
    "    \n",
    "X_train, y_train = train['features'], train['labels']\n",
    "X_valid, y_valid = valid['features'], valid['labels']\n",
    "X_test, y_test = test['features'], test['labels']"
   ]
  },
  {
   "cell_type": "markdown",
   "metadata": {
    "deletable": true,
    "editable": true
   },
   "source": [
    "### sign name \n",
    "the labels in the training data uses specific numbers to identify different signs . the filesignnames.csv has the number mapped for the sign type . this code  block is goingto create a dictionary of numbers to the sign type . this will come in handy when we classify our own images taken from internet"
   ]
  },
  {
   "cell_type": "code",
   "execution_count": 2,
   "metadata": {
    "collapsed": false,
    "deletable": true,
    "editable": true
   },
   "outputs": [],
   "source": [
    "# create a dictionary with class number and sign name pair\n",
    "import csv\n",
    "signValues = {}\n",
    "with open('signnames.csv',newline='') as file :\n",
    "    read = csv.reader(file,delimiter = ',', quotechar='|')\n",
    "    for row in read:\n",
    "        if row[0] != 'ClassId':\n",
    "            signValues[int(row[0])] = row[1]"
   ]
  },
  {
   "cell_type": "code",
   "execution_count": 3,
   "metadata": {
    "collapsed": true,
    "deletable": true,
    "editable": true
   },
   "outputs": [],
   "source": [
    "EPOCHS = 10\n",
    "BATCH_SIZE = 128"
   ]
  },
  {
   "cell_type": "markdown",
   "metadata": {
    "deletable": true,
    "editable": true
   },
   "source": [
    "### summery of our data"
   ]
  },
  {
   "cell_type": "code",
   "execution_count": 4,
   "metadata": {
    "collapsed": false,
    "deletable": true,
    "editable": true
   },
   "outputs": [
    {
     "name": "stdout",
     "output_type": "stream",
     "text": [
      "Number of training examples = 34799\n",
      "Number of testing examples = 12630\n",
      "Image data shape = (32, 32, 3)\n",
      "Number of classes = 42\n"
     ]
    }
   ],
   "source": [
    "\n",
    "import numpy as np\n",
    "\n",
    "n_train = X_train.shape[:][0]\n",
    "\n",
    "\n",
    "n_test =  y_test.shape[:][0]\n",
    "\n",
    "\n",
    "image_shape = X_train[0].shape\n",
    "\n",
    "n_classes = np.max(y_train)\n",
    "\n",
    "print(\"Number of training examples =\", n_train)\n",
    "print(\"Number of testing examples =\", n_test)\n",
    "print(\"Image data shape =\", image_shape)\n",
    "print(\"Number of classes =\", n_classes)"
   ]
  },
  {
   "cell_type": "markdown",
   "metadata": {
    "deletable": true,
    "editable": true
   },
   "source": [
    "### visualizaton of training data "
   ]
  },
  {
   "cell_type": "code",
   "execution_count": 29,
   "metadata": {
    "collapsed": false,
    "deletable": true,
    "editable": true
   },
   "outputs": [
    {
     "name": "stdout",
     "output_type": "stream",
     "text": [
      "training datas has been converted to gray scale image \n"
     ]
    },
    {
     "data": {
      "image/png": "[encoded data removed]",
      "text/plain": [
       "<matplotlib.figure.Figure at 0x25761ca5208>"
      ]
     },
     "metadata": {},
     "output_type": "display_data"
    }
   ],
   "source": [
    "### Data exploration visualization code goes here.\n",
    "### Feel free to use as many code cells as needed.\n",
    "import matplotlib.pyplot as plt\n",
    "import random\n",
    "# Visualizations will be shown in the notebook.\n",
    "%matplotlib inline\n",
    "#http://matplotlib.org/examples/pylab_examples/subplots_demo.html\n",
    "\n",
    "\n",
    "\n",
    "#plt.set_window_title('hi')\n",
    "_,a = plt.subplots(2,2)\n",
    "if X_train[0].shape[2] == 3: # to check whether the image formate is BGR (or) grayscale\n",
    "    for i in range(0,2):\n",
    "        for j in range(0,2):\n",
    "\n",
    "            w = random.randint(0,X_train.shape[:][0])\n",
    "            a[i][j].imshow( X_train[w])\n",
    "            a[i][j].set_title(signValues[y_train[w]])\n",
    "\n",
    "    plt.show()\n",
    "else :\n",
    "    print ('training datas has been converted to gray scale image ')\n",
    "\n"
   ]
  },
  {
   "cell_type": "markdown",
   "metadata": {},
   "source": [
    "### Distribution of data set"
   ]
  },
  {
   "cell_type": "code",
   "execution_count": 19,
   "metadata": {
    "collapsed": false
   },
   "outputs": [
    {
     "data": {
      "text/plain": [
       "<matplotlib.text.Text at 0x25763663c88>"
      ]
     },
     "execution_count": 19,
     "metadata": {},
     "output_type": "execute_result"
    },
    {
     "data": {
      "image/png": "[encoded data removed]",
      "text/plain": [
       "<matplotlib.figure.Figure at 0x257630e8a20>"
      ]
     },
     "metadata": {},
     "output_type": "display_data"
    }
   ],
   "source": [
    "label , num = np.unique (y_train , return_counts = True)# return two list of unique label and their count \n",
    "\n",
    "plt.rcParams[\"figure.figsize\"] = [15,7]\n",
    "plt.bar(label, num, tick_label=label, width=0.5, align='center')\n",
    "plt.title('Visualization of distribution')"
   ]
  },
  {
   "cell_type": "markdown",
   "metadata": {
    "deletable": true,
    "editable": true
   },
   "source": [
    "### preprocess and augment the training data"
   ]
  },
  {
   "cell_type": "markdown",
   "metadata": {
    "collapsed": true,
    "deletable": true,
    "editable": true
   },
   "source": [
    "our training data is made up of 32X3X3 (BGR) . training on this data is one way of approach\n",
    "but , if we convert it into grayscale image of 32X32X1 , the training process will be much easy \n",
    "\n",
    "normalization of the image will refine the sign details by removing the background noices which \n",
    "will help in trining process \n",
    "the code block below will convert the train , test and validation data to grayscale nad normalizze it by 128\n",
    "(x-128)/128\n",
    "\n",
    "Augmentation is the process of applying transformation rotation to the training data and adding them to the \n",
    "training data which will increase the number of training data "
   ]
  },
  {
   "cell_type": "code",
   "execution_count": 24,
   "metadata": {
    "collapsed": false,
    "deletable": true,
    "editable": true
   },
   "outputs": [
    {
     "name": "stdout",
     "output_type": "stream",
     "text": [
      "(44799, 32, 32, 1)\n",
      "(12630, 32, 32, 1)\n",
      "(4410, 32, 32, 1)\n"
     ]
    }
   ],
   "source": [
    "\n",
    "%matplotlib inline\n",
    "import cv2\n",
    "\n",
    "k = []\n",
    "l = []\n",
    "# width and height of the imput image \n",
    "width = X_train.shape[1] \n",
    "col = X_train.shape[2]\n",
    "\n",
    "for i in range(X_train.shape[:][0]):\n",
    "    temp = cv2.cvtColor(X_train[i], cv2.COLOR_BGR2GRAY) # convert BGR to grayscale image\n",
    "    temp = (temp-128)/128#  normalization of image\n",
    "    k.append(np.reshape(temp,(32,32,1))) #reshaping temp image of size 32X32 to 32X32X1\n",
    "    l.append(y_train[i])\n",
    "\n",
    "# create 10000 additional training data by transforming training  data  \n",
    "v = 0\n",
    "\n",
    "while v < 10000:\n",
    "    v+=1\n",
    "        \n",
    "    \n",
    "    rand = random.randint(0,X_train.shape[0]-1) # generate a random varable to choose an image \n",
    "    img = X_train[rand]\n",
    "    w,h = random.randint(0,5),random.randint(0,5)# generate a random varable to shift the image by pixels\n",
    "    M = np.float32([[1,0,w],[0,1,h]])\n",
    "        \n",
    "    opt = cv2.warpAffine(img,M,(col,width))\n",
    "    opt = cv2.cvtColor(opt, cv2.COLOR_BGR2GRAY)\n",
    "    opt = (opt-128)/128 #  normalization of image\n",
    "    k.append(np.reshape(opt,(32,32,1)))\n",
    "    l.append(y_train[rand]) # grab and add the training label for the specific trafic sign\n",
    "\n",
    "  \n",
    "    \n",
    "X_train = np.array(k)\n",
    "y_train = np.array(l)\n",
    "print (X_train.shape)\n",
    "\n",
    "xTest = []\n",
    "# test image grayscale conversion and normalization\n",
    "for i in range(X_test.shape[:][0]):\n",
    "    temp = cv2.cvtColor(X_test[i], cv2.COLOR_BGR2GRAY)\n",
    "    temp = (temp-128)/128#  normalization of image\n",
    "    xTest.append(np.reshape(temp,(32,32,1)))\n",
    "X_test = np.array(xTest)\n",
    "print (X_test.shape)\n",
    "\n",
    "# validation image grayscale conversion and normalization\n",
    "xValid = []\n",
    "for i in range(X_valid.shape[:][0]):\n",
    "    temp = cv2.cvtColor(X_valid[i], cv2.COLOR_BGR2GRAY)\n",
    "    temp = (temp-128)/128#  normalization of image\n",
    "    xValid.append(np.reshape(temp,(32,32,1)))\n",
    "X_valid = np.array(xValid)\n",
    "print (X_valid.shape)\n"
   ]
  },
  {
   "cell_type": "markdown",
   "metadata": {
    "deletable": true,
    "editable": true
   },
   "source": [
    "### shuffling of data"
   ]
  },
  {
   "cell_type": "code",
   "execution_count": 25,
   "metadata": {
    "collapsed": false,
    "deletable": true,
    "editable": true
   },
   "outputs": [],
   "source": [
    "from sklearn.utils import shuffle\n",
    "\n",
    "X_train, y_train = shuffle(X_train, y_train)\n",
    "X_test, y_test = shuffle(X_test, y_test)\n",
    "X_valid, y_valid = shuffle(X_valid, y_valid)"
   ]
  },
  {
   "cell_type": "markdown",
   "metadata": {
    "collapsed": true,
    "deletable": true,
    "editable": true
   },
   "source": [
    "### visualization of the normalized image"
   ]
  },
  {
   "cell_type": "code",
   "execution_count": 35,
   "metadata": {
    "collapsed": false,
    "deletable": true,
    "editable": true
   },
   "outputs": [
    {
     "data": {
      "image/png": "[encoded data removed]",
      "text/plain": [
       "<matplotlib.figure.Figure at 0x2570da05da0>"
      ]
     },
     "metadata": {},
     "output_type": "display_data"
    }
   ],
   "source": [
    "\n",
    "import matplotlib.pyplot as plt\n",
    "import random\n",
    "\n",
    "%matplotlib inline\n",
    "\n",
    "\n",
    "\n",
    "\n",
    "#plt.set_window_title('hi')\n",
    "_,a = plt.subplots(2,2)\n",
    "\n",
    "for i in range(0,2):\n",
    "    for j in range(0,2):\n",
    "        \n",
    "        w = random.randint(0,X_train.shape[0])\n",
    "        a[i][j].imshow( X_train[w].squeeze())\n",
    "        a[i][j].set_title(signValues[y_train[w]])\n",
    "        \n",
    "plt.show()\n",
    "\n",
    "\n"
   ]
  },
  {
   "cell_type": "markdown",
   "metadata": {
    "deletable": true,
    "editable": true
   },
   "source": [
    "### Model Architecture"
   ]
  },
  {
   "cell_type": "markdown",
   "metadata": {
    "deletable": true,
    "editable": true
   },
   "source": [
    "### function to create convolution layer "
   ]
  },
  {
   "cell_type": "markdown",
   "metadata": {
    "deletable": true,
    "editable": true
   },
   "source": [
    "conv2d ( input (Tf placeholder) , filter (Weights) , stride size , padding ('VALID','SAME') , biase  )\n",
    "\n",
    "this function takes input (tf constant , image , convolute layer ) , weights , and biase , create convolute layer\n",
    "using provided weight , adds biases to it and applies relu "
   ]
  },
  {
   "cell_type": "code",
   "execution_count": 46,
   "metadata": {
    "collapsed": true,
    "deletable": true,
    "editable": true
   },
   "outputs": [],
   "source": [
    "def conv2d(input,filter,strides,padding,biase):\n",
    "    #creation of a convolution layer\n",
    "    convLayer = tf.nn.conv2d(input,filter,strides,padding)\n",
    "    convLayer = tf.nn.bias_add(convLayer,biase)\n",
    "    convLayer = tf.nn.relu(convLayer)\n",
    "    return convLayer"
   ]
  },
  {
   "cell_type": "markdown",
   "metadata": {
    "deletable": true,
    "editable": true
   },
   "source": [
    "### function to apply pooling to the convolute layer "
   ]
  },
  {
   "cell_type": "markdown",
   "metadata": {
    "deletable": true,
    "editable": true
   },
   "source": [
    "pooling ( input (convolute layer) , ksize (window ) , stride , padding('VOID ' , 'SAME))"
   ]
  },
  {
   "cell_type": "code",
   "execution_count": 47,
   "metadata": {
    "collapsed": true,
    "deletable": true,
    "editable": true
   },
   "outputs": [],
   "source": [
    "def pooling(input , ksize , strides , padding):\n",
    "    maxPool = tf.nn.max_pool(input , ksize , strides , padding)# applying max pooling to the convolute lyer\n",
    "    return maxPool\n",
    "    "
   ]
  },
  {
   "cell_type": "code",
   "execution_count": 40,
   "metadata": {
    "collapsed": true,
    "deletable": true,
    "editable": true
   },
   "outputs": [],
   "source": [
    "# definition of mean and standerd deviation for truncated normal\n",
    "mu = 0\n",
    "sigma = 0.01"
   ]
  },
  {
   "cell_type": "markdown",
   "metadata": {
    "deletable": true,
    "editable": true
   },
   "source": [
    "### Define placeholder"
   ]
  },
  {
   "cell_type": "code",
   "execution_count": 41,
   "metadata": {
    "collapsed": false,
    "deletable": true,
    "editable": true
   },
   "outputs": [],
   "source": [
    "x = tf.placeholder(tf.float32, (None, 32, 32, 1))# image placeholder for grayscale image with dimention (None ,32,32,1)\n",
    "y = tf.placeholder(tf.int32, (None))# image label placeholder\n",
    "one_hot_y = tf.one_hot(y, 42)# label converted to oh hot encoding for easy classification by neurons in output layer\n",
    "dropout = tf.placeholder(tf.float32,(None))# dropout place holder ( 0.0 - 1.0)"
   ]
  },
  {
   "cell_type": "markdown",
   "metadata": {
    "deletable": true,
    "editable": true
   },
   "source": [
    "### Weights and Biase variable definition "
   ]
  },
  {
   "cell_type": "markdown",
   "metadata": {
    "deletable": true,
    "editable": true
   },
   "source": [
    "#### for convolution layer"
   ]
  },
  {
   "cell_type": "code",
   "execution_count": 42,
   "metadata": {
    "collapsed": false,
    "deletable": true,
    "editable": true
   },
   "outputs": [],
   "source": [
    "# definition of weights \n",
    "import tensorflow as tf\n",
    "weights1 = {'wc1':tf.Variable(tf.truncated_normal([5,5,1,6],mean = mu , stddev = sigma)),# [height , width , ip_dimention , op_dimention]\n",
    "           'wc2':tf.Variable(tf.truncated_normal([2,2,6,16],mean = mu , stddev = sigma)),\n",
    "           'wc3':tf.Variable(tf.truncated_normal([3,3,16,32],mean = mu , stddev = sigma))}\n",
    "biases1  = {'bc1':tf.Variable(tf.truncated_normal([6],mean = mu , stddev = sigma)),\n",
    "           'bc2':tf.Variable(tf.truncated_normal([16],mean = mu , stddev = sigma)),\n",
    "           'bc3':tf.Variable(tf.truncated_normal([32],mean = mu , stddev = sigma))}"
   ]
  },
  {
   "cell_type": "markdown",
   "metadata": {
    "deletable": true,
    "editable": true
   },
   "source": [
    "#### for fully connected layer"
   ]
  },
  {
   "cell_type": "code",
   "execution_count": 43,
   "metadata": {
    "collapsed": true,
    "deletable": true,
    "editable": true
   },
   "outputs": [],
   "source": [
    "# defining weights and biases for fully connected layer\n",
    "weightFullyConnected1 = {'wf1':tf.Variable(tf.truncated_normal([2304,1024],mean = mu , stddev = sigma)),\n",
    "                        'wf2':tf.Variable(tf.truncated_normal([1024,512],mean = mu , stddev = sigma)),\n",
    "                        'wf3':tf.Variable(tf.truncated_normal([512,256],mean = mu , stddev = sigma)),\n",
    "                        'out':tf.Variable(tf.truncated_normal([512,42],mean = mu , stddev = sigma))}\n",
    "biasesFullyConnected1 = {'bf1':tf.Variable(tf.truncated_normal([1024],mean = mu , stddev = sigma)),#120 - 320\n",
    "                        'bf2':tf.Variable(tf.truncated_normal([512],mean = mu , stddev = sigma)),\n",
    "                        'bf3':tf.Variable(tf.truncated_normal([256],mean = mu , stddev = sigma)),\n",
    "                        'out':tf.Variable(tf.truncated_normal([42],mean = mu , stddev = sigma))}"
   ]
  },
  {
   "cell_type": "markdown",
   "metadata": {
    "deletable": true,
    "editable": true
   },
   "source": [
    "### Graph definition "
   ]
  },
  {
   "cell_type": "code",
   "execution_count": 49,
   "metadata": {
    "collapsed": false,
    "deletable": true,
    "editable": true
   },
   "outputs": [],
   "source": [
    "\n",
    "from tensorflow.contrib.layers import flatten\n",
    "\n",
    "def graph(x):    \n",
    "    layer1 = conv2d(x,weights1['wc1'],[1,1,1,1],'VALID',biases1['bc1']) # (32,32,3) -> (28,28,6)\n",
    "    layer1 = pooling(layer1,[1,5,5,1],[1,1,1,1],'VALID')# (28,28,6) -> (24,24,6)\n",
    "\n",
    "    layer2 = conv2d(layer1,weights1['wc2'],[1,2,2,1],'VALID',biases1['bc2'])# (24,24,6) -> (12,12,16)\n",
    "\n",
    "    layer3 = conv2d(layer2,weights1['wc3'],[1,1,1,1],'VALID',biases1['bc3'])#(12,12,16) -> (10,10,32)\n",
    "\n",
    "    layer3 = pooling(layer3,[1,2,2,1],[1,2,2,1],'VALID')# (10,10,32) -> (5,5,32)\n",
    "\n",
    "\n",
    "    # adding flatten to \n",
    "    flatInput = flatten(layer2) #(5,5,32) -> (2304)\n",
    "\n",
    "    fc1 = tf.add(tf.matmul(flatInput,weightFullyConnected1['wf1']),biasesFullyConnected1['bf1'])\n",
    "    fc1 = tf.nn.relu(fc1) # (2304) -> (1024)\n",
    "\n",
    "    fc2 = tf.add(tf.matmul(fc1,weightFullyConnected1['wf2']),biasesFullyConnected1['bf2'])\n",
    "    fc2 = tf.nn.relu(fc2)\n",
    "    fc2 = tf.nn.dropout(fc2,dropout) # (1024) -> (512)\n",
    "    \n",
    "    \n",
    "    out = tf.add(tf.matmul(fc2,weightFullyConnected1['out']),biasesFullyConnected1['out'])# (512) -> (42)\n",
    "    \n",
    "    return out\n"
   ]
  },
  {
   "cell_type": "markdown",
   "metadata": {
    "deletable": true,
    "editable": true
   },
   "source": [
    "### To visualize the model\n",
    "To visualize the features of eaxh layers , we have to pass the data through the seperately . defining them here will\n",
    "help us to vizualize those features (to see visualization , go down )"
   ]
  },
  {
   "cell_type": "code",
   "execution_count": 48,
   "metadata": {
    "collapsed": false,
    "deletable": true,
    "editable": true
   },
   "outputs": [],
   "source": [
    "layer1 = conv2d(x,weights1['wc1'],[1,1,1,1],'VALID',biases1['bc1'])\n",
    "layer1pool = pooling(layer1,[1,5,5,1],[1,1,1,1],'VALID')\n",
    "\n",
    "layer2 = conv2d(layer1pool,weights1['wc2'],[1,2,2,1],'VALID',biases1['bc2'])\n",
    "\n",
    "layer3 = conv2d(layer2,weights1['wc3'],[1,1,1,1],'VALID',biases1['bc3'])\n",
    "\n",
    "layer3pool = pooling(layer3,[1,2,2,1],[1,2,2,1],'VALID')\n"
   ]
  },
  {
   "cell_type": "markdown",
   "metadata": {
    "deletable": true,
    "editable": true
   },
   "source": [
    "### Initialization of methods "
   ]
  },
  {
   "cell_type": "code",
   "execution_count": 50,
   "metadata": {
    "collapsed": false,
    "deletable": true,
    "editable": true
   },
   "outputs": [],
   "source": [
    "rate = 0.0005\n",
    "\n",
    "logits = graph(x)\n",
    "cross_entropy = tf.nn.softmax_cross_entropy_with_logits(logits = logits, labels = one_hot_y)#one_hot_y :y\n",
    "just_soft_max = tf.nn.softmax(logits)\n",
    "loss_operation = tf.reduce_mean(cross_entropy)\n",
    "optimizer = tf.train.AdamOptimizer(learning_rate = rate)\n",
    "\n",
    "training_operation = optimizer.minimize(loss_operation)"
   ]
  },
  {
   "cell_type": "code",
   "execution_count": 51,
   "metadata": {
    "collapsed": false,
    "deletable": true,
    "editable": true
   },
   "outputs": [],
   "source": [
    "correct_prediction = tf.equal(tf.argmax(logits, 1), tf.argmax(one_hot_y, 1))#one_hot_y :y\n",
    "accuracy_operation = tf.reduce_mean(tf.cast(correct_prediction, tf.float32))\n",
    "predictions = tf.argmax(logits, 1)\n",
    "saver = tf.train.Saver()\n",
    "\n",
    "def evaluate(X_data, y_data):\n",
    "    num_examples = len(X_data)\n",
    "    total_accuracy = 0\n",
    "    sess = tf.get_default_session()\n",
    "    for offset in range(0, num_examples, BATCH_SIZE):\n",
    "        batch_x, batch_y = X_data[offset:offset+BATCH_SIZE], y_data[offset:offset+BATCH_SIZE]\n",
    "        accuracy = sess.run(accuracy_operation, feed_dict={x: batch_x, y: batch_y,dropout : 1.0})\n",
    "        total_accuracy += (accuracy * len(batch_x))\n",
    "    return total_accuracy / num_examples"
   ]
  },
  {
   "cell_type": "code",
   "execution_count": 52,
   "metadata": {
    "collapsed": true,
    "deletable": true,
    "editable": true
   },
   "outputs": [],
   "source": [
    "model = 'model\\\\data'"
   ]
  },
  {
   "cell_type": "markdown",
   "metadata": {
    "deletable": true,
    "editable": true
   },
   "source": [
    "### Train, Validate and Test the Model"
   ]
  },
  {
   "cell_type": "markdown",
   "metadata": {
    "deletable": true,
    "editable": true
   },
   "source": [
    "A validation set can be used to assess how well the model is performing. A low accuracy on the training and validation\n",
    "sets imply underfitting. A high accuracy on the training set but low accuracy on the validation set implies overfitting."
   ]
  },
  {
   "cell_type": "code",
   "execution_count": 52,
   "metadata": {
    "collapsed": false,
    "deletable": true,
    "editable": true
   },
   "outputs": [
    {
     "name": "stdout",
     "output_type": "stream",
     "text": [
      "Training...\n",
      "\n",
      "EPOCH 1 ...\n",
      "Validation Accuracy = 0.059\n",
      "time for epoch 0 is -137.3748495578766\n",
      "\n",
      "EPOCH 2 ...\n",
      "Validation Accuracy = 0.207\n",
      "time for epoch 1 is -280.61756896972656\n",
      "\n",
      "EPOCH 3 ...\n",
      "Validation Accuracy = 0.361\n",
      "time for epoch 2 is -411.74989223480225\n",
      "\n",
      "EPOCH 4 ...\n",
      "Validation Accuracy = 0.498\n",
      "time for epoch 3 is -556.5656604766846\n",
      "\n",
      "EPOCH 5 ...\n",
      "Validation Accuracy = 0.571\n",
      "time for epoch 4 is -757.591477394104\n",
      "\n",
      "EPOCH 6 ...\n",
      "Validation Accuracy = 0.595\n",
      "time for epoch 5 is -944.9020855426788\n",
      "\n",
      "EPOCH 7 ...\n",
      "Validation Accuracy = 0.647\n",
      "time for epoch 6 is -1139.8047077655792\n",
      "\n",
      "EPOCH 8 ...\n",
      "Validation Accuracy = 0.664\n",
      "time for epoch 7 is -1328.4365124702454\n",
      "\n",
      "EPOCH 9 ...\n",
      "Validation Accuracy = 0.678\n",
      "time for epoch 8 is -1502.579677581787\n",
      "\n",
      "EPOCH 10 ...\n",
      "Validation Accuracy = 0.659\n",
      "time for epoch 9 is -1703.6892035007477\n",
      "\n",
      "Model saved\n",
      "total time 1714.0775396823883\n"
     ]
    }
   ],
   "source": [
    "from sklearn.utils import shuffle\n",
    "import time\n",
    "start_time = time.time()\n",
    "with tf.Session() as sess:\n",
    "    sess.run(tf.global_variables_initializer())\n",
    "    num_examples = len(X_train)\n",
    "    \n",
    "    print(\"Training...\")\n",
    "    print()\n",
    "    for i in range(EPOCHS):\n",
    "        X_train, y_train = shuffle(X_train, y_train)\n",
    "        \n",
    "        for offset in range(0, num_examples, BATCH_SIZE):\n",
    "            end = offset + BATCH_SIZE\n",
    "            batch_x, batch_y = X_train[offset:end], y_train[offset:end]\n",
    "            \n",
    "        \n",
    "            sess.run(training_operation, feed_dict={x: batch_x, y: batch_y,dropout:0.8})\n",
    "            \n",
    "        validation_accuracy = evaluate(X_valid, y_valid)\n",
    "        print(\"EPOCH {} ...\".format(i+1))\n",
    "        print(\"Validation Accuracy = {:.3f}\".format(validation_accuracy))\n",
    "        print ('time for epoch {} is {}'.format(i,start_time - time.time()))\n",
    "        print()\n",
    "        \n",
    "    saver.save(sess, model)\n",
    "    print(\"Model saved\")\n",
    "    print ('total time {}'.format(time.time()-start_time))\n",
    "    \n",
    "    \n",
    "    "
   ]
  },
  {
   "cell_type": "markdown",
   "metadata": {
    "deletable": true,
    "editable": true
   },
   "source": [
    "### Testing your model"
   ]
  },
  {
   "cell_type": "code",
   "execution_count": 54,
   "metadata": {
    "collapsed": false,
    "deletable": true,
    "editable": true
   },
   "outputs": [
    {
     "name": "stdout",
     "output_type": "stream",
     "text": [
      "the test accuracy of this model : 0.6641330165326925\n",
      "the train accuracy of this model : 0.8089019843687364\n"
     ]
    }
   ],
   "source": [
    "with tf.Session() as sess:\n",
    "    saver.restore(sess, model)\n",
    "    testAccuracy = evaluate(X_test,y_test)\n",
    "    trainAccuracy = evaluate(X_train,y_train)\n",
    "    print ('the test accuracy of this model : {}'.format(testAccuracy))\n",
    "    print ('the train accuracy of this model : {}'.format(trainAccuracy))"
   ]
  },
  {
   "cell_type": "markdown",
   "metadata": {
    "deletable": true,
    "editable": true
   },
   "source": [
    "### Load New Image "
   ]
  },
  {
   "cell_type": "markdown",
   "metadata": {
    "deletable": true,
    "editable": true
   },
   "source": [
    "this code block loads new image downloaded from online , reshapes them into 32X32X3 , converts it to grayscape and applies normalization , and add it to X_out with shape (None , 32 , 32 , 1)"
   ]
  },
  {
   "cell_type": "code",
   "execution_count": 43,
   "metadata": {
    "collapsed": false,
    "deletable": true,
    "editable": true
   },
   "outputs": [
    {
     "name": "stdout",
     "output_type": "stream",
     "text": [
      "(5, 32, 32, 1)\n"
     ]
    }
   ],
   "source": [
    "import os\n",
    "fileName = ['testPic\\\\'+name for name in os.listdir('testPic')] # file name which has the images\n",
    "outTest = []\n",
    "for name in fileName:\n",
    "    test = cv2.imread(name,1)\n",
    "    \n",
    "    test = cv2.resize(test,(32,32),interpolation = cv2.INTER_AREA) # resize the image of any size to (32X32)\n",
    "    temp = cv2.cvtColor(test, cv2.COLOR_BGR2GRAY)# convert to grayscale image\n",
    "    temp = (temp-128)/128# apply normalization \n",
    "\n",
    "    outTest.append(np.reshape(temp,(32,32,1)))# add depth to image \n",
    "X_out = np.array(outTest)\n",
    "print (X_out.shape)"
   ]
  },
  {
   "cell_type": "markdown",
   "metadata": {
    "deletable": true,
    "editable": true
   },
   "source": [
    "### Predict the Sign Type for Each Image "
   ]
  },
  {
   "cell_type": "code",
   "execution_count": 54,
   "metadata": {
    "collapsed": false,
    "deletable": true,
    "editable": true
   },
   "outputs": [
    {
     "name": "stdout",
     "output_type": "stream",
     "text": [
      "['Speed limit (30km/h)', 'Speed limit (60km/h)', 'Road work', 'Wild animals crossing', 'Roundabout mandatory']\n"
     ]
    }
   ],
   "source": [
    "\n",
    "with tf.Session() as sess:\n",
    "    saver.restore(sess, model)\n",
    "    pri = sess.run(predictions,feed_dict={x:X_out,dropout:1.0}) # predict the label for these images . use 1.0 for dropout value\n",
    "\n",
    "predictedSign = [signValues[x] for x in pri]\n",
    "print (predictedSign)"
   ]
  },
  {
   "cell_type": "markdown",
   "metadata": {
    "deletable": true,
    "editable": true
   },
   "source": [
    "### Analyze Performance"
   ]
  },
  {
   "cell_type": "code",
   "execution_count": 55,
   "metadata": {
    "collapsed": false,
    "deletable": true,
    "editable": true
   },
   "outputs": [
    {
     "name": "stdout",
     "output_type": "stream",
     "text": [
      "This is the percentage of accuracy for this test model 60.0%\n"
     ]
    }
   ],
   "source": [
    "hand_coded_labels = [1,3,11,31,33] # hand code the sign h=number using the signname.csv file provided \n",
    "count = 0\n",
    "for i in range(len(pri)):\n",
    "    if pri[i]== hand_coded_labels[i]: # check with the predicted result\n",
    "      count+=1\n",
    "percentage = (100/len(pri))*count # calculate the accuracy of your prediction \n",
    "print ('This is the percentage of accuracy for this test model {}%'.format(percentage))"
   ]
  },
  {
   "cell_type": "markdown",
   "metadata": {
    "deletable": true,
    "editable": true
   },
   "source": [
    "### Display the top softmax predictions for our own image "
   ]
  },
  {
   "cell_type": "code",
   "execution_count": 25,
   "metadata": {
    "collapsed": false,
    "deletable": true,
    "editable": true
   },
   "outputs": [
    {
     "name": "stdout",
     "output_type": "stream",
     "text": [
      "Speed limit (30km/h) = 0.542862\n",
      "Speed limit (20km/h) = 0.210906\n",
      "Speed limit (50km/h) = 0.157635\n",
      "\n",
      "Speed limit (60km/h) = 0.76604\n",
      "Speed limit (30km/h) = 0.148891\n",
      "Speed limit (80km/h) = 0.0791803\n",
      "\n",
      "Children crossing = 0.735759\n",
      "Right-of-way at the next intersection = 0.1928\n",
      "Road work = 0.0456295\n",
      "\n",
      "Wild animals crossing = 0.986611\n",
      "Double curve = 0.0120036\n",
      "Dangerous curve to the left = 0.000717828\n",
      "\n",
      "Roundabout mandatory = 0.488365\n",
      "Speed limit (20km/h) = 0.207788\n",
      "Speed limit (30km/h) = 0.175993\n",
      "\n"
     ]
    }
   ],
   "source": [
    "# printing the top 3 softmax prediction on the image taken from online\n",
    "with tf.Session() as sess:\n",
    "    saver.restore(sess, model)\n",
    "    softmaxValue = sess.run(tf.nn.top_k(just_soft_max,k=3),feed_dict={x:X_out,dropout:1.0})\n",
    "   \n",
    "\n",
    "index = softmaxValue[1]\n",
    "softmax = softmaxValue[0]\n",
    "for i in range (len(index)) :\n",
    "    print_index = index[i]\n",
    "    print_soft = softmax[i]\n",
    "    value = ''\n",
    "    for j in range(len(print_index)):\n",
    "        value += signValues[print_index[j]]\n",
    "        value += ' = '+str(print_soft[j]) \n",
    "        value +='\\n'\n",
    "    print (value)\n",
    " "
   ]
  },
  {
   "cell_type": "markdown",
   "metadata": {
    "deletable": true,
    "editable": true
   },
   "source": [
    "---\n",
    "\n",
    "##  Visualization of  the Neural Network's State with Test Images\n",
    "\n",
    " \n"
   ]
  },
  {
   "cell_type": "code",
   "execution_count": 48,
   "metadata": {
    "collapsed": true,
    "deletable": true,
    "editable": true
   },
   "outputs": [],
   "source": [
    "def outputFeatureMap(image_input, tf_activation, activation_min=-1, activation_max=-1 ,plt_num=1):\n",
    "    \n",
    "    activation = tf_activation.eval(session=sess,feed_dict={x : image_input,dropout:1.0})\n",
    "    featuremaps = activation.shape[3]\n",
    "    plt.figure(plt_num, figsize=(15,15))\n",
    "    for featuremap in range(featuremaps):\n",
    "        plt.subplot(6,8, featuremap+1) # sets the number of feature maps to show on each row and column\n",
    "        plt.title('FeatureMap ' + str(featuremap)) # displays the feature map number\n",
    "        if activation_min != -1 & activation_max != -1:\n",
    "            plt.imshow(activation[0,:,:, featuremap], interpolation=\"nearest\", vmin =activation_min, vmax=activation_max, cmap=\"gray\")\n",
    "        elif activation_max != -1:\n",
    "            plt.imshow(activation[0,:,:, featuremap], interpolation=\"nearest\", vmax=activation_max, cmap=\"gray\")\n",
    "        elif activation_min !=-1:\n",
    "            plt.imshow(activation[0,:,:, featuremap], interpolation=\"nearest\", vmin=activation_min, cmap=\"gray\")\n",
    "        else:\n",
    "            plt.imshow(activation[0,:,:, featuremap], interpolation=\"nearest\", cmap=\"gray\")"
   ]
  },
  {
   "cell_type": "code",
   "execution_count": 59,
   "metadata": {
    "collapsed": false,
    "deletable": true,
    "editable": true
   },
   "outputs": [
    {
     "data": {
      "image/png": "[encoded data removed]",
      "text/plain": [
       "<matplotlib.figure.Figure at 0x27c1d52ee10>"
      ]
     },
     "metadata": {},
     "output_type": "display_data"
    }
   ],
   "source": [
    "### to visualize the feature map \n",
    "with tf.Session() as sess:\n",
    "    saver.restore(sess, model)\n",
    "    outputFeatureMap(X_out[0:1], layer1 , activation_min=-1, activation_max=-1 ,plt_num=1)\n",
    "    "
   ]
  },
  {
   "cell_type": "markdown",
   "metadata": {
    "deletable": true,
    "editable": true
   },
   "source": [
    "### use of visualizing feature map \n",
    "\n",
    "visualization of feature map , clearly shows us the type of features which causes activation on our convalution layer \n",
    "\n",
    "the lighter pixels in the images , shows the  feature which causes activation , where the darker pixels represent no \n",
    "activation \n",
    "\n",
    "comparing these images with the original image , shows us a clear understanding of what casing activation "
   ]
  }
 ],
 "metadata": {
  "anaconda-cloud": {},
  "kernelspec": {
   "display_name": "Python 3",
   "language": "python",
   "name": "python3"
  },
  "language_info": {
   "codemirror_mode": {
    "name": "ipython",
    "version": 3
   },
   "file_extension": ".py",
   "mimetype": "text/x-python",
   "name": "python",
   "nbconvert_exporter": "python",
   "pygments_lexer": "ipython3",
   "version": "3.5.2"
  },
  "widgets": {
   "state": {},
   "version": "1.1.2"
  }
 },
 "nbformat": 4,
 "nbformat_minor": 1
}
